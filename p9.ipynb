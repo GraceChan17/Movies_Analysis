{
 "cells": [
  {
   "cell_type": "code",
   "execution_count": 1,
   "id": "791fe173",
   "metadata": {
    "cell_type": "code",
    "deletable": false,
    "editable": false
   },
   "outputs": [],
   "source": [
    "# import and initialize otter\n",
    "import otter\n",
    "grader = otter.Notebook(\"p9.ipynb\")"
   ]
  },
  {
   "cell_type": "code",
   "execution_count": 2,
   "id": "67aba15a",
   "metadata": {
    "deletable": false,
    "editable": false,
    "execution": {
     "iopub.execute_input": "2024-03-19T20:07:45.992553Z",
     "iopub.status.busy": "2024-03-19T20:07:45.992553Z",
     "iopub.status.idle": "2024-03-19T20:07:48.783624Z",
     "shell.execute_reply": "2024-03-19T20:07:48.782607Z"
    }
   },
   "outputs": [],
   "source": [
    "import public_tests"
   ]
  },
  {
   "cell_type": "code",
   "execution_count": 3,
   "id": "7c321eb1",
   "metadata": {
    "execution": {
     "iopub.execute_input": "2024-03-19T20:07:48.788622Z",
     "iopub.status.busy": "2024-03-19T20:07:48.787626Z",
     "iopub.status.idle": "2024-03-19T20:07:48.793146Z",
     "shell.execute_reply": "2024-03-19T20:07:48.792129Z"
    }
   },
   "outputs": [],
   "source": [
    "# PLEASE FILL IN THE DETAILS\n",
    "# enter none if you don't have a project partner\n",
    "# you will have to add your partner as a group member on Gradescope even after you fill this\n",
    "\n",
    "# project: p9\n",
    "# submitter: zchen2365\n",
    "# partner: None"
   ]
  },
  {
   "cell_type": "markdown",
   "id": "0c018208",
   "metadata": {
    "deletable": false,
    "editable": false
   },
   "source": [
    "# Project 9: Analyzing the Movies"
   ]
  },
  {
   "cell_type": "markdown",
   "id": "eb9d6c94",
   "metadata": {
    "deletable": false,
    "editable": false
   },
   "source": [
    "## Learning Objectives:\n",
    "\n",
    "In this project, you will demonstrate your ability to:\n",
    "- use `matplotlib` to plot bar graphs and visualize statistics\n",
    "- process data using dictionaries and lists that you build\n",
    "- implement binning by writing algorithms that create dictionaries\n",
    "- custom sort a list using the keyword parameter `key`'s argument.\n",
    "\n",
    "Please go through [Lab-P9](https://git.doit.wisc.edu/cdis/cs/courses/cs220/cs220-s24-projects/-/tree/main/lab-p9) before starting this project. The lab introduces some useful techniques necessary for this project."
   ]
  },
  {
   "cell_type": "markdown",
   "id": "47697cfa",
   "metadata": {
    "deletable": false,
    "editable": false
   },
   "source": [
    "## Testing your code:\n",
    "\n",
    "Along with this notebook, you must have downloaded the file `public_tests.py`. If you are curious about how we test your code, you can explore this file, and specifically the value of the variable `expected_json`, to understand the expected answers to the questions.\n",
    "\n",
    "**Important:** `public_tests.py` **cannot** verify your answers when the output is an image. Your **plots** will be **checked** by the Gradescope autograder, so you must **manually** confirm that your plots look correct by comparing with the images provided in the notebook."
   ]
  },
  {
   "cell_type": "markdown",
   "id": "b3e63968",
   "metadata": {
    "deletable": false,
    "editable": false
   },
   "source": [
    "<h2 style=\"color:red\">Warning (Note on Academic Misconduct):</h2>\n",
    "\n",
    "**IMPORTANT**: **P8 and P9 are two parts of the same data analysis.** You **cannot** switch project partners between these two projects. That is if you partnered up with someone for P8, you have to sustain that partnership until the end of P9. Now may be a good time to review [our course policies](https://cs220.cs.wisc.edu/s24/syllabus.html).\n",
    "\n",
    "Under any circumstances, **no more than two students are allowed to work together on a project** as mentioned in the course policies. If your code is flagged by our code similarity detection tools, **both partners will be responsible** for sharing/copying the code, even if the code is shared/copied by one of the partners with/from other non-partner student(s). Note that each case of plagiarism will be reported to the Dean of Students with a zero grade on the project. **If you think that someone cannot be your project partner then don’t make that student your lab partner.**\n",
    "\n",
    "**<font color = \"red\">Project partners must submit only one copy of their project on Gradescope, but they must include the names of both partners.</font>**"
   ]
  },
  {
   "cell_type": "markdown",
   "id": "e9754830",
   "metadata": {
    "deletable": false,
    "editable": false
   },
   "source": [
    "## Introduction:\n",
    "\n",
    "In P8, you created very useful helper functions to parse the raw IMDb dataset. You also created useful data structures to store the data. In this project, you will be building on the work you did in P8 to analyze your favorite movies. This is a shorter project than usual, and **P9 will only have 10 questions for you to solve**."
   ]
  },
  {
   "cell_type": "markdown",
   "id": "40de2a89",
   "metadata": {
    "deletable": false,
    "editable": false
   },
   "source": [
    "## Data:\n",
    "\n",
    "In P9, you will be analyzing the same dataset that you worked with in P8. You may download the files fresh, or just copy/paste the datasets from your P8 directory."
   ]
  },
  {
   "cell_type": "markdown",
   "id": "6a7614b2",
   "metadata": {
    "deletable": false,
    "editable": false
   },
   "source": [
    "## Project Requirements:\n",
    "\n",
    "You **may not** hardcode indices in your code, unless the question explicitly asks you to do so. If you open your `.csv` files with Excel, manually count through the rows and use this number to loop through the dataset, this is also considered as hardcoding. If any instances of hardcoding are found during code review, the Gradescope autograder will **deduct** points from your public score.\n",
    "\n",
    "**Store** your final answer for each question in the **variable specified for each question**. This step is important because Otter grades your work by comparing the value of this variable against the correct answer.\n",
    "\n",
    "For some of the questions, we'll ask you to write (then use) a function to compute the answer. If you compute the answer **without** creating the function we ask you to write, the Gradescope autograder will **deduct** points from your public score, even if the way you did it produced the correct answer.\n",
    "\n",
    "#### Required Functions:\n",
    "- `get_mapping`\n",
    "- `get_raw_movies`\n",
    "- `get_movies`\n",
    "- `find_specific_movies`\n",
    "- `bucketize`\n",
    "\n",
    "In this project, you will also be required to define certain **data structures**. If you do not create these data structures exactly as specified, the Gradescope autograder will **deduct** points from your public score, even if the way you did it produced the correct answer.\n",
    "\n",
    "#### Required Data Structures:\n",
    "- `movies`\n",
    "- `cast_buckets`\n",
    "- `director_buckets`\n",
    "- `genre_buckets`\n",
    "- `year_buckets`\n",
    "\n",
    "You are only allowed to define these data structures **once** and we'll **deduct** points from your public score on Gradescope if you redefine the values of these variables.\n",
    "\n",
    "In this project (and the next), you will be asked to create **lists** of movies. For all such questions, **unless it is explicitly mentioned otherwise**, the movies should be in the **same order** as in the `movies.csv` (or `small_movies.csv`) file. Similarly, for each movie, the **list** of `genres`, `directors`, and `cast` members should always be in the **same order** as in the `movies.csv` (or `small_movies.csv`) file.\n",
    "\n",
    "Students are only allowed to use Python commands and concepts that have been taught in the course prior to the release of P9. Therefore, you should not use the `pandas` module. The Gradescope autograder will **deduct** points from your public score otherwise.\n",
    "\n",
    "For more details on what will cause you to lose points during code review and specific requirements, please take a look at the [Grading rubric](https://git.doit.wisc.edu/cdis/cs/courses/cs220/cs220-s24-projects/-/blob/main/p9/rubric.md)."
   ]
  },
  {
   "cell_type": "markdown",
   "id": "4d776143",
   "metadata": {
    "deletable": false,
    "editable": false
   },
   "source": [
    "## Project Questions and Functions:"
   ]
  },
  {
   "cell_type": "code",
   "execution_count": 4,
   "id": "9bc58344",
   "metadata": {
    "execution": {
     "iopub.execute_input": "2024-03-19T20:07:48.798147Z",
     "iopub.status.busy": "2024-03-19T20:07:48.798147Z",
     "iopub.status.idle": "2024-03-19T20:07:48.944302Z",
     "shell.execute_reply": "2024-03-19T20:07:48.943291Z"
    },
    "tags": []
   },
   "outputs": [],
   "source": [
    "# it is considered a good coding practice to place all import statements at the top of the notebook\n",
    "# please place all your import statements in this cell if you need to import any more modules for this project\n",
    "\n",
    "import csv\n",
    "import pandas\n",
    "import matplotlib"
   ]
  },
  {
   "cell_type": "markdown",
   "id": "6887bd16",
   "metadata": {
    "deletable": false,
    "editable": false
   },
   "source": [
    "## Loading the Movies Data\n",
    "\n",
    "For all these questions, we will be looking at the movies in `mapping.csv` and `movies.csv`. You can load the list of movies using the functions you wrote in the last project."
   ]
  },
  {
   "cell_type": "markdown",
   "id": "04d36797",
   "metadata": {
    "deletable": false,
    "editable": false
   },
   "source": [
    "Copy the functions you wrote in `p8.ipynb` to `p9.ipynb` to read the movies data. The functions you should include are `process_csv`, `get_mapping`, `get_raw_movies`, and `get_movies` along with any helper functions you used to write these. Do **not** copy/paste `find_specific_movies` here. Later in P9, we will provide you with a simpler version of that function, which does not require the use of the `copy` module."
   ]
  },
  {
   "cell_type": "code",
   "execution_count": 5,
   "id": "f8a88445",
   "metadata": {
    "execution": {
     "iopub.execute_input": "2024-03-19T20:07:48.949321Z",
     "iopub.status.busy": "2024-03-19T20:07:48.948321Z",
     "iopub.status.idle": "2024-03-19T20:07:48.955842Z",
     "shell.execute_reply": "2024-03-19T20:07:48.954829Z"
    },
    "tags": []
   },
   "outputs": [],
   "source": [
    "# copy/paste the definition of process_csv from previous projects (p6 or p7)\n",
    "def process_csv(filename):\n",
    "    example_file = open(filename, encoding=\"utf-8\")\n",
    "    example_reader = csv.reader(example_file)\n",
    "    example_data = list(example_reader)\n",
    "    example_file.close()\n",
    "    return example_data\n",
    "\n",
    "# copy/paste the definition of get_mapping from p8.ipynb\n",
    "def get_mapping(path):\n",
    "    \"\"\"\n",
    "    get_mapping(path) converts a mapping csv in 'path' \n",
    "    into a dict with keys as IDs and values as names\n",
    "    \"\"\"\n",
    "# Process path\n",
    "    mapping_file = open(path, encoding=\"utf-8\")\n",
    "    mapping_reader = csv.reader(mapping_file)\n",
    "    mapping_data = list(mapping_reader)\n",
    "\n",
    "# Create a dictionary\n",
    "    mapping_dict = {}\n",
    "\n",
    "# Iterate through each row of processed path\n",
    "    for row in mapping_data:\n",
    "# Map value in first column (ID) to value in second column (name/title)\n",
    "        mapping_dict[row[0]] = row[1]\n",
    "\n",
    "    mapping_file.close()  # Close the file after processing\n",
    "\n",
    "    return mapping_dict"
   ]
  },
  {
   "cell_type": "code",
   "execution_count": 6,
   "id": "2bfd13fe",
   "metadata": {
    "deletable": false,
    "editable": false
   },
   "outputs": [
    {
     "data": {
      "text/html": [
       "<p><strong><pre style='display: inline;'>get_mapping</pre></strong> passed! 🌟</p>"
      ],
      "text/plain": [
       "get_mapping results: All test cases passed!"
      ]
     },
     "execution_count": 6,
     "metadata": {},
     "output_type": "execute_result"
    }
   ],
   "source": [
    "grader.check(\"get_mapping\")"
   ]
  },
  {
   "cell_type": "code",
   "execution_count": 7,
   "id": "104a69c7-0536-4135-b503-222706f8dad6",
   "metadata": {
    "execution": {
     "iopub.execute_input": "2024-03-19T20:07:48.975398Z",
     "iopub.status.busy": "2024-03-19T20:07:48.975398Z",
     "iopub.status.idle": "2024-03-19T20:07:48.983957Z",
     "shell.execute_reply": "2024-03-19T20:07:48.982946Z"
    },
    "tags": []
   },
   "outputs": [],
   "source": [
    "# copy/paste the definition of get_raw_movies from p8.ipynb\n",
    "# as well as any other helper functions used by this function here\n",
    "def get_raw_movies(path):\n",
    "    \"\"\"\n",
    "    get_raw_movies(path) converts a movies csv in 'path' \n",
    "    into a list of dicts with column names as keys and\n",
    "    the corresponding type converted values as the values\n",
    "    \"\"\"\n",
    "# Process the CSV file\n",
    "    movies_file = open(path, encoding=\"utf-8\")\n",
    "    movies_reader = csv.reader(movies_file)\n",
    "    movies_data = list(movies_reader)\n",
    "\n",
    "# Extract the header and rows\n",
    "    header = movies_data[0]\n",
    "    rows = movies_data[1:]\n",
    "\n",
    "# Create a list to store the movie dictionaries\n",
    "    movies_list = []\n",
    "\n",
    "# Iterate over each row in the movies data\n",
    "    for row in rows:\n",
    "        movie_dict = {}\n",
    "    \n",
    "    # Iterate over each column in the header\n",
    "        for i in range(len(header)):\n",
    "            column_name = header[i]\n",
    "            value = row[i]\n",
    "            \n",
    "        \n",
    "        # Convert the values to the appropriate data types\n",
    "            if column_name == 'title':\n",
    "                movie_dict[column_name] = value\n",
    "            elif column_name == 'year' or column_name == 'duration':\n",
    "                movie_dict[column_name] = int(value)\n",
    "            elif column_name == 'genres':\n",
    "                movie_dict[column_name] = value.split(', ')\n",
    "            elif column_name == 'rating':\n",
    "                movie_dict[column_name] = float(value)\n",
    "            elif column_name == 'directors' or column_name == 'cast':\n",
    "                movie_dict[column_name] = value.split(', ')\n",
    "    \n",
    "    # Append the movie dictionary to the movies list\n",
    "        movies_list.append(movie_dict)\n",
    "\n",
    "    movies_file.close()  # Close the file after processing\n",
    "\n",
    "    return movies_list"
   ]
  },
  {
   "cell_type": "code",
   "execution_count": 8,
   "id": "19752a3a",
   "metadata": {
    "deletable": false,
    "editable": false
   },
   "outputs": [
    {
     "data": {
      "text/html": [
       "<p><strong><pre style='display: inline;'>get_raw_movies</pre></strong> passed! 🎉</p>"
      ],
      "text/plain": [
       "get_raw_movies results: All test cases passed!"
      ]
     },
     "execution_count": 8,
     "metadata": {},
     "output_type": "execute_result"
    }
   ],
   "source": [
    "grader.check(\"get_raw_movies\")"
   ]
  },
  {
   "cell_type": "code",
   "execution_count": 9,
   "id": "06fa306e-1d23-47f0-a6ec-0c8dc1bcb2e0",
   "metadata": {
    "execution": {
     "iopub.execute_input": "2024-03-19T20:07:48.997802Z",
     "iopub.status.busy": "2024-03-19T20:07:48.997802Z",
     "iopub.status.idle": "2024-03-19T20:07:49.004916Z",
     "shell.execute_reply": "2024-03-19T20:07:49.003906Z"
    },
    "tags": []
   },
   "outputs": [],
   "source": [
    "# copy/paste the definition of get_movies from p8.ipynb\n",
    "# as well as any other helper functions used by this function here\n",
    "def get_movies(movies_path, mapping_path):\n",
    "    \"\"\"\n",
    "    get_movies(movies_path, mapping_path) converts a movies csv in 'movies_path' \n",
    "    into a list of dicts with column names as keys and the corresponding \n",
    "    type converted values as the values; then uses the mapping csv in 'mapping_path'\n",
    "    to replace the IDs of the titles, cast, and directors into actual names\n",
    "    \"\"\"\n",
    "    # Call get_mapping to get the mapping dictionary\n",
    "    mapping_dict = get_mapping(mapping_path)\n",
    "    # Call get_raw_movies to get the list of movie dictionaries\n",
    "    raw_movies_list = get_raw_movies(movies_path)\n",
    "\n",
    "# Create a list to store the modified movie dictionaries\n",
    "    movies_list = []\n",
    "\n",
    "# Iterate over each movie dictionary in raw_movies_list\n",
    "    for movie in raw_movies_list:\n",
    "        new_movie = {}\n",
    "    \n",
    "    # Map the title ID to the actual title name\n",
    "        title_id = movie['title']\n",
    "        new_movie['title'] = mapping_dict[title_id]\n",
    "    \n",
    "    # Add the other columns to the new dictionary\n",
    "        new_movie['year'] = movie['year']\n",
    "        new_movie['duration'] = movie['duration']\n",
    "        new_movie['genres'] = movie['genres']\n",
    "        new_movie['rating'] = movie['rating']\n",
    "    \n",
    "    # Map the director IDs to the actual director names\n",
    "        director_names = []\n",
    "        for director_id in movie['directors']:\n",
    "            director_names.append(mapping_dict[director_id])\n",
    "            new_movie['directors'] = director_names\n",
    "    \n",
    "    # Map the cast IDs to the actual actor names\n",
    "        cast_names = []\n",
    "        for cast_id in movie['cast']:\n",
    "            cast_names.append(mapping_dict[cast_id])\n",
    "            new_movie['cast'] = cast_names\n",
    "    \n",
    "    # Append the modified movie dictionary to the movies list\n",
    "        movies_list.append(new_movie)\n",
    "\n",
    "    return movies_list"
   ]
  },
  {
   "cell_type": "code",
   "execution_count": 10,
   "id": "d01316fa",
   "metadata": {
    "deletable": false,
    "editable": false
   },
   "outputs": [
    {
     "data": {
      "text/html": [
       "<p><strong><pre style='display: inline;'>get_movies</pre></strong> passed! 🙌</p>"
      ],
      "text/plain": [
       "get_movies results: All test cases passed!"
      ]
     },
     "execution_count": 10,
     "metadata": {},
     "output_type": "execute_result"
    }
   ],
   "source": [
    "grader.check(\"get_movies\")"
   ]
  },
  {
   "cell_type": "markdown",
   "id": "1ddfafe3",
   "metadata": {
    "deletable": false,
    "editable": false
   },
   "source": [
    "Now, you can use `get_movies` to read the data in `movies.csv` and `mapping.csv` as you did in P8."
   ]
  },
  {
   "cell_type": "code",
   "execution_count": 11,
   "id": "a7914c33",
   "metadata": {
    "execution": {
     "iopub.execute_input": "2024-03-19T20:07:49.018329Z",
     "iopub.status.busy": "2024-03-19T20:07:49.018329Z",
     "iopub.status.idle": "2024-03-19T20:07:51.032925Z",
     "shell.execute_reply": "2024-03-19T20:07:51.031918Z"
    },
    "tags": []
   },
   "outputs": [],
   "source": [
    "# create a list of dictionaries named 'movies' to store the data in 'movies.csv' and 'mapping.csv' as in p8\n",
    "# do NOT display the value of this variable anywhere in this notebook\n",
    "\n",
    "movies = get_movies(\"movies.csv\", \"mapping.csv\")"
   ]
  },
  {
   "cell_type": "code",
   "execution_count": 12,
   "id": "98dbfa14",
   "metadata": {
    "deletable": false,
    "editable": false
   },
   "outputs": [
    {
     "data": {
      "text/html": [
       "<p><strong><pre style='display: inline;'>movies</pre></strong> passed! ✨</p>"
      ],
      "text/plain": [
       "movies results: All test cases passed!"
      ]
     },
     "execution_count": 12,
     "metadata": {},
     "output_type": "execute_result"
    }
   ],
   "source": [
    "grader.check(\"movies\")"
   ]
  },
  {
   "cell_type": "markdown",
   "id": "8916aba2",
   "metadata": {
    "deletable": false,
    "editable": false
   },
   "source": [
    "There should be *75123* **dictionaries** in the **list** `movies` and the first entry of `movies` should be a **dictionary** that looks as follows:\n",
    "\n",
    "```python\n",
    "{'title': 'Countdown',\n",
    " 'year': 1996,\n",
    " 'duration': 90,\n",
    " 'genres': ['Crime', 'Mystery', 'Thriller'],\n",
    " 'rating': 3.9,\n",
    " 'directors': ['Keoni Waxman'],\n",
    " 'cast': ['Yûki Amami', 'Lori Petty', 'Jason London', 'James Le Gros']}\n",
    "```\n",
    "\n",
    "**Warning:** At this stage, it is expected that the function `get_movies` works correctly, and that `movies` is defined as it was in P8. If not, your code will run into issues in P9. So, make sure that this function works properly before you start P9. You can do that by **inserting a new cell** in Jupyter below this cell and verifying that the size of your variable `movies`, and that the first **dictionary** in `movies` is as it should be.\n",
    "\n",
    "Also, just like in P8, delete any cells displaying the whole of `movies` data structure before turning in `p9.ipynb`."
   ]
  },
  {
   "cell_type": "markdown",
   "id": "4664b116",
   "metadata": {
    "deletable": false,
    "editable": false
   },
   "source": [
    "Now, copy over the functions `plot_dict`, `median` and `year_to_decade` from Lab-P9."
   ]
  },
  {
   "cell_type": "code",
   "execution_count": 13,
   "id": "041c9914",
   "metadata": {
    "execution": {
     "iopub.execute_input": "2024-03-19T20:07:51.046931Z",
     "iopub.status.busy": "2024-03-19T20:07:51.046931Z",
     "iopub.status.idle": "2024-03-19T20:07:51.053241Z",
     "shell.execute_reply": "2024-03-19T20:07:51.052209Z"
    },
    "tags": []
   },
   "outputs": [],
   "source": [
    "# copy/paste the definition of plot_dict from Lab-P9\n",
    "# as well as any helper functions used by that functions here\n",
    "def plot_dict(d, label=\"Please Label Me!\"):\n",
    "    \"\"\"plot_dict(d, label) creates a bar plot using the \n",
    "    dictionary 'd' and labels the y-axis as 'label'\"\"\"\n",
    "    ax = pandas.Series(d).sort_index().plot.bar(color=\"black\", fontsize=16, figsize=(4 + len(d)//4, 4))\n",
    "    ax.set_ylabel(label, fontsize=16)"
   ]
  },
  {
   "cell_type": "code",
   "execution_count": 14,
   "id": "b97cbc74",
   "metadata": {
    "deletable": false,
    "editable": false
   },
   "outputs": [
    {
     "data": {
      "text/html": [
       "<p><strong><pre style='display: inline;'>plot_dict</pre></strong> passed! 🍀</p>"
      ],
      "text/plain": [
       "plot_dict results: All test cases passed!"
      ]
     },
     "execution_count": 14,
     "metadata": {},
     "output_type": "execute_result"
    }
   ],
   "source": [
    "grader.check(\"plot_dict\")"
   ]
  },
  {
   "cell_type": "code",
   "execution_count": 15,
   "id": "3d914406-7343-4d9c-a03c-a23f1ca1bc76",
   "metadata": {
    "execution": {
     "iopub.execute_input": "2024-03-19T20:07:51.067307Z",
     "iopub.status.busy": "2024-03-19T20:07:51.067307Z",
     "iopub.status.idle": "2024-03-19T20:07:51.074052Z",
     "shell.execute_reply": "2024-03-19T20:07:51.073007Z"
    },
    "tags": []
   },
   "outputs": [],
   "source": [
    "# copy/paste the definition of median from Lab-P9\n",
    "# as well as any helper functions used by that functions here\n",
    "\n",
    "def median(items):\n",
    "    \"\"\"\n",
    "    median(items) returns the median of the list `items`\n",
    "    \"\"\"\n",
    "   \n",
    "    # sort the list\n",
    "    sorted_list = sorted(items)\n",
    "    # determine the length of the list\n",
    "    list_len = len(items)\n",
    "    if list_len % 2 == 1: # determine whether length of the list is odd\n",
    "        # return item in the middle using indexing\n",
    "        return sorted_list[list_len // 2]\n",
    "    else:\n",
    "        first_middle = sorted_list[list_len // 2 - 1] # use appropriate indexing\n",
    "        second_middle = sorted_list[list_len // 2] # use appropriate indexing\n",
    "        return (first_middle + second_middle) / 2"
   ]
  },
  {
   "cell_type": "code",
   "execution_count": 16,
   "id": "3b60b0df",
   "metadata": {
    "deletable": false,
    "editable": false
   },
   "outputs": [
    {
     "data": {
      "text/html": [
       "<p><strong><pre style='display: inline;'>median</pre></strong> passed! 🌈</p>"
      ],
      "text/plain": [
       "median results: All test cases passed!"
      ]
     },
     "execution_count": 16,
     "metadata": {},
     "output_type": "execute_result"
    }
   ],
   "source": [
    "grader.check(\"median\")"
   ]
  },
  {
   "cell_type": "code",
   "execution_count": 17,
   "id": "88e88b17-294c-4dcd-81b9-c178407369d7",
   "metadata": {
    "execution": {
     "iopub.execute_input": "2024-03-19T20:07:51.088279Z",
     "iopub.status.busy": "2024-03-19T20:07:51.087290Z",
     "iopub.status.idle": "2024-03-19T20:07:51.093933Z",
     "shell.execute_reply": "2024-03-19T20:07:51.092906Z"
    },
    "tags": []
   },
   "outputs": [],
   "source": [
    "# copy/paste the definition of year_to_decade from Lab-P9\n",
    "# as well as any helper functions used by that functions here\n",
    "\n",
    "def year_to_decade(year):\n",
    "    if year % 10 == 0:\n",
    "        decade = str(year - 9) + ' to ' + str(year)\n",
    "    else:\n",
    "        decade_start = year // 10 * 10 + 1\n",
    "        decade = str(decade_start) + ' to ' + str(decade_start + 9)\n",
    "    return decade"
   ]
  },
  {
   "cell_type": "code",
   "execution_count": 18,
   "id": "31d8261e",
   "metadata": {
    "deletable": false,
    "editable": false
   },
   "outputs": [
    {
     "data": {
      "text/html": [
       "<p><strong><pre style='display: inline;'>year_to_decade</pre></strong> passed! 🍀</p>"
      ],
      "text/plain": [
       "year_to_decade results: All test cases passed!"
      ]
     },
     "execution_count": 18,
     "metadata": {},
     "output_type": "execute_result"
    }
   ],
   "source": [
    "grader.check(\"year_to_decade\")"
   ]
  },
  {
   "cell_type": "markdown",
   "id": "8618c47c",
   "metadata": {
    "deletable": false,
    "editable": false
   },
   "source": [
    "In P8, you were provided with a function `find_specific_movies` which functioned as some sort of a 'search bar' for the movies dataset. However, in order to use that function properly, you had to use the `copy` module to pass a *copy* of your list of movies to `find_specific_movies`. Making copies frequently is **not** a good coding practice. For this project, we will provide **a new version** of `find_specific_movies` that does **not** require using `copy`. Please go through the following function:"
   ]
  },
  {
   "cell_type": "code",
   "execution_count": 19,
   "id": "5b67b538-d33d-4605-b7ec-ea9fa43e34b9",
   "metadata": {
    "execution": {
     "iopub.execute_input": "2024-03-19T20:07:51.107465Z",
     "iopub.status.busy": "2024-03-19T20:07:51.107465Z",
     "iopub.status.idle": "2024-03-19T20:07:51.113966Z",
     "shell.execute_reply": "2024-03-19T20:07:51.112931Z"
    },
    "tags": []
   },
   "outputs": [],
   "source": [
    "# modified find_specific_movies (doesn't require using copy module)\n",
    "def find_specific_movies(movies, keyword):\n",
    "    \"\"\"\n",
    "    find_specific_movies(movies, keyword) takes a list of movie dictionaries \n",
    "    and a keyword; it returns a list of movies that contain the keyword\n",
    "    in either its title, genre, cast or directors.\n",
    "    \"\"\"\n",
    "    movies_with_keyword = []\n",
    "    for movie in movies:\n",
    "        if (keyword in movie['title']) or (keyword in movie['genres']) \\\n",
    "            or (keyword in movie['directors']) or (keyword in movie['cast']):\n",
    "            movies_with_keyword.append(movie)\n",
    "    return movies_with_keyword"
   ]
  },
  {
   "cell_type": "code",
   "execution_count": 20,
   "id": "16974662",
   "metadata": {
    "deletable": false,
    "editable": false
   },
   "outputs": [
    {
     "data": {
      "text/html": [
       "<p><strong><pre style='display: inline;'>find_specific_movies</pre></strong> passed! 🚀</p>"
      ],
      "text/plain": [
       "find_specific_movies results: All test cases passed!"
      ]
     },
     "execution_count": 20,
     "metadata": {},
     "output_type": "execute_result"
    }
   ],
   "source": [
    "grader.check(\"find_specific_movies\")"
   ]
  },
  {
   "cell_type": "markdown",
   "id": "93af2529",
   "metadata": {
    "deletable": false,
    "editable": false
   },
   "source": [
    "**Important:** **Even when you are not explicitly prompted to do so, using the `find_specific_movies` function cleverly can simplify your code significantly. Keep an eye out for how you can simplify your code by making use of `find_specific_movies`.**"
   ]
  },
  {
   "cell_type": "markdown",
   "id": "7f1c4751",
   "metadata": {
    "deletable": false,
    "editable": false
   },
   "source": [
    "### Analyzing the Movies data"
   ]
  },
  {
   "cell_type": "markdown",
   "id": "56da8b79",
   "metadata": {
    "deletable": false,
    "editable": false
   },
   "source": [
    "**Question 1:** What is the **median** `rating` of the movies that **involve** both *Clint Eastwood* and *Sergio Leone*?\n",
    "\n",
    "You **must** make multiple calls to the `find_specific_movies` function to identify the movies which involve both *Clint Eastwood* and *Sergio Leone*."
   ]
  },
  {
   "cell_type": "code",
   "execution_count": 21,
   "id": "c3589ac0",
   "metadata": {
    "execution": {
     "iopub.execute_input": "2024-03-19T20:07:51.128069Z",
     "iopub.status.busy": "2024-03-19T20:07:51.128069Z",
     "iopub.status.idle": "2024-03-19T20:07:51.239040Z",
     "shell.execute_reply": "2024-03-19T20:07:51.238028Z"
    },
    "tags": []
   },
   "outputs": [
    {
     "data": {
      "text/plain": [
       "8.2"
      ]
     },
     "execution_count": 21,
     "metadata": {},
     "output_type": "execute_result"
    }
   ],
   "source": [
    "# compute and store the answer in the variable 'median_eastwood_leone_rating', then display it\n",
    "\n",
    "# Find movies involving Clint Eastwood\n",
    "eastwood_movies = find_specific_movies(movies, 'Clint Eastwood')\n",
    "\n",
    "# Find movies involving Sergio Leone from the Clint Eastwood movies\n",
    "eastwood_leone_movies = find_specific_movies(eastwood_movies, 'Sergio Leone')\n",
    "\n",
    "# Extract the ratings of the Eastwood-Leone movies\n",
    "eastwood_leone_ratings = [movie['rating'] for movie in eastwood_leone_movies]\n",
    "\n",
    "# Calculate the median rating\n",
    "median_eastwood_leone_rating = median(eastwood_leone_ratings)\n",
    "\n",
    "median_eastwood_leone_rating"
   ]
  },
  {
   "cell_type": "code",
   "execution_count": 22,
   "id": "89e082ab",
   "metadata": {
    "deletable": false,
    "editable": false
   },
   "outputs": [
    {
     "data": {
      "text/html": [
       "<p><strong><pre style='display: inline;'>q1</pre></strong> passed! 🚀</p><p><strong><pre style='display: inline;'>q1 - 2</pre> message:</strong> Note that the Gradescope autograder will deduct points if your code fails the following rubric point - '`find_specific_movies` function is not used (-1)'.The public tests cannot determine if your code satisfies these requirements. Verify your code manually.</p><p><strong><pre style='display: inline;'>q1 - 3</pre> message:</strong> Note that the Gradescope autograder will deduct points if your code fails the following rubric point - 'median calculation is incorrect (-1)'.The public tests cannot determine if your code satisfies these requirements. Verify your code manually.</p><p><strong><pre style='display: inline;'>q1 - 4</pre> message:</strong> Note that the Gradescope autograder will deduct points if your code fails the following rubric point - 'answer uses loops to iterate over dictionary keys (-1)'.The public tests cannot determine if your code satisfies these requirements. Verify your code manually.</p>"
      ],
      "text/plain": [
       "q1 results: All test cases passed!\n",
       "q1 - 2 message: Note that the Gradescope autograder will deduct points if your code fails the following rubric point - '`find_specific_movies` function is not used (-1)'.The public tests cannot determine if your code satisfies these requirements. Verify your code manually.\n",
       "q1 - 3 message: Note that the Gradescope autograder will deduct points if your code fails the following rubric point - 'median calculation is incorrect (-1)'.The public tests cannot determine if your code satisfies these requirements. Verify your code manually.\n",
       "q1 - 4 message: Note that the Gradescope autograder will deduct points if your code fails the following rubric point - 'answer uses loops to iterate over dictionary keys (-1)'.The public tests cannot determine if your code satisfies these requirements. Verify your code manually."
      ]
     },
     "execution_count": 22,
     "metadata": {},
     "output_type": "execute_result"
    }
   ],
   "source": [
    "grader.check(\"q1\")"
   ]
  },
  {
   "cell_type": "markdown",
   "id": "8a769290",
   "metadata": {
    "deletable": false,
    "editable": false
   },
   "source": [
    "**Question 2:** Among all the *Toy Story* movies, which ones are the **highest** rated?\n",
    "\n",
    "Your output **must** be a **list** of **dictionaries**. You **must** use `find_specific_movies` to identify all movies which have *Toy Story* as a substring of their `title`. You may assume there is no cast member or director named *Toy Story*, or any genre called *Toy Story*.\n",
    "\n",
    "**Hint:** You could first find the **highest** `rating` that any *Toy Story* movie received, and then find all the *Toy Story* movies that received that `rating`."
   ]
  },
  {
   "cell_type": "code",
   "execution_count": 23,
   "id": "75341871",
   "metadata": {
    "execution": {
     "iopub.execute_input": "2024-03-19T20:07:51.799159Z",
     "iopub.status.busy": "2024-03-19T20:07:51.799159Z",
     "iopub.status.idle": "2024-03-19T20:07:51.994803Z",
     "shell.execute_reply": "2024-03-19T20:07:51.993793Z"
    },
    "tags": []
   },
   "outputs": [
    {
     "data": {
      "text/plain": [
       "[{'title': 'Toy Story 3',\n",
       "  'year': 2010,\n",
       "  'duration': 103,\n",
       "  'genres': ['Adventure', 'Animation', 'Comedy'],\n",
       "  'rating': 8.3,\n",
       "  'directors': ['Lee Unkrich'],\n",
       "  'cast': ['Tom Hanks', 'Tim Allen', 'Joan Cusack', 'Ned Beatty']},\n",
       " {'title': 'Toy Story',\n",
       "  'year': 1995,\n",
       "  'duration': 81,\n",
       "  'genres': ['Adventure', 'Animation', 'Comedy'],\n",
       "  'rating': 8.3,\n",
       "  'directors': ['John Lasseter'],\n",
       "  'cast': ['Tom Hanks', 'Tim Allen', 'Don Rickles', 'Jim Varney']}]"
      ]
     },
     "execution_count": 23,
     "metadata": {},
     "output_type": "execute_result"
    }
   ],
   "source": [
    "# compute and store the answer in the variable 'highest_rated_toy_story_movies', then display it\n",
    "\n",
    "# Find all Toy Story movies\n",
    "toy_story_movies = find_specific_movies(movies, 'Toy Story')\n",
    "\n",
    "# Find the highest rating among Toy Story movies\n",
    "highest_rating = max(movie['rating'] for movie in toy_story_movies)\n",
    "\n",
    "# Find Toy Story movies with the highest rating\n",
    "highest_rated_toy_story_movies = [movie for movie in toy_story_movies if movie['rating'] == highest_rating]\n",
    "\n",
    "highest_rated_toy_story_movies"
   ]
  },
  {
   "cell_type": "code",
   "execution_count": 24,
   "id": "d3385df1",
   "metadata": {
    "deletable": false,
    "editable": false
   },
   "outputs": [
    {
     "data": {
      "text/html": [
       "<p><strong><pre style='display: inline;'>q2</pre></strong> passed! 💯</p><p><strong><pre style='display: inline;'>q2 - 2</pre> message:</strong> Note that the Gradescope autograder will deduct points if your code fails the following rubric point - '`find_specific_movies` function is not used (-1)'.The public tests cannot determine if your code satisfies these requirements. Verify your code manually.</p><p><strong><pre style='display: inline;'>q2 - 3</pre> message:</strong> Note that the Gradescope autograder will deduct points if your code fails the following rubric point - 'rating of highest rated *Toy Story* movie is hardcoded (-1)'.The public tests cannot determine if your code satisfies these requirements. Verify your code manually.</p><p><strong><pre style='display: inline;'>q2 - 4</pre> message:</strong> Note that the Gradescope autograder will deduct points if your code fails the following rubric point - 'did not find all the movies with the highest rating (-1)'.The public tests cannot determine if your code satisfies these requirements. Verify your code manually.</p><p><strong><pre style='display: inline;'>q2 - 5</pre> message:</strong> Note that the Gradescope autograder will deduct points if your code fails the following rubric point - 'answer uses loops to iterate over dictionary keys (-1)'.The public tests cannot determine if your code satisfies these requirements. Verify your code manually.</p>"
      ],
      "text/plain": [
       "q2 results: All test cases passed!\n",
       "q2 - 2 message: Note that the Gradescope autograder will deduct points if your code fails the following rubric point - '`find_specific_movies` function is not used (-1)'.The public tests cannot determine if your code satisfies these requirements. Verify your code manually.\n",
       "q2 - 3 message: Note that the Gradescope autograder will deduct points if your code fails the following rubric point - 'rating of highest rated *Toy Story* movie is hardcoded (-1)'.The public tests cannot determine if your code satisfies these requirements. Verify your code manually.\n",
       "q2 - 4 message: Note that the Gradescope autograder will deduct points if your code fails the following rubric point - 'did not find all the movies with the highest rating (-1)'.The public tests cannot determine if your code satisfies these requirements. Verify your code manually.\n",
       "q2 - 5 message: Note that the Gradescope autograder will deduct points if your code fails the following rubric point - 'answer uses loops to iterate over dictionary keys (-1)'.The public tests cannot determine if your code satisfies these requirements. Verify your code manually."
      ]
     },
     "execution_count": 24,
     "metadata": {},
     "output_type": "execute_result"
    }
   ],
   "source": [
    "grader.check(\"q2\")"
   ]
  },
  {
   "cell_type": "markdown",
   "id": "b366d7b3",
   "metadata": {
    "deletable": false,
    "editable": false
   },
   "source": [
    "### Function 1: `bucketize(movies_list, category)` \n",
    "\n",
    "This function should take in a **list** of movie **dictionaries** as well as a **category** (i.e. `title`, `year`, `duration`, `genres`, `rating`, `directors`, or `cast`), and *bucketize* the **list** of movie **dictionaries** by this **category**.\n",
    "\n",
    "For example, the output of `bucketize(movies, 'rating')` should be a **dictionary** so that all the unique values of `rating` of the movies in `movies` are the **keys** and the correspoding **values** would be a **list** of all movie **dictionaries** with that rating (e.g., the value of the key *6.4* should be the **list** of movie dictionaries with `rating` of *6.4*).\n",
    "\n",
    "The output of `bucketize(movies, 'rating')` should look like this:\n",
    "\n",
    "```python\n",
    "{3.9: [{'title': 'Countdown',\n",
    "       'year': 1996,\n",
    "       'duration': 90,\n",
    "       'genres': ['Crime', 'Mystery', 'Thriller'],\n",
    "       'rating': 3.9,\n",
    "       'directors': ['Keoni Waxman'],\n",
    "       'cast': ['Yûki Amami', 'Lori Petty', 'Jason London', 'James Le Gros']},\n",
    "      {'title': 'A Darker Reality',\n",
    "       'year': 2008,\n",
    "       'duration': 88,\n",
    "       'genres': ['Horror'],\n",
    "       'rating': 3.9,\n",
    "       'directors': ['Chris Kazmier'],\n",
    "       'cast': ['Daniel Baldwin', 'James C. Burns', 'Sunny Doench', 'Alisha Seaton']},\n",
    "       ...\n",
    "      ],\n",
    " 4.1: [{'title': 'Shadows & Lies',\n",
    "      'year': 2010,\n",
    "      'duration': 100,\n",
    "      'genres': ['Crime', 'Drama'],\n",
    "      'rating': 4.1,\n",
    "      'directors': ['Jay Anania'],\n",
    "      'cast': ['James Franco', 'Julianne Nicholson', 'Martin Donovan', 'Josh Lucas']},\n",
    "     {'title': 'Paramedics',\n",
    "      'year': 1988,\n",
    "      'duration': 90,\n",
    "      'genres': ['Comedy'],\n",
    "      'rating': 4.1,\n",
    "      'directors': ['Stuart Margolin'],\n",
    "      'cast': ['George Newbern', 'Christopher McDonald', 'John P. Ryan', 'James Noble']},\n",
    "       ...\n",
    "      ],\n",
    " ...\n",
    "}\n",
    "```\n",
    "\n",
    "Similarly, the output of `bucketize(movies, 'cast')` should be a **dictionary** so that all the unique `cast` members of the movies in `movies` are the **keys** and the correspoding **values** would be a **list** of all movie **dictionaries** with that cast member as one of their `cast` (e.g., the value of the key *Kate Winslet* should be the **list** of movie dictionaries with *Kate Winslet* as one of their `cast` members).\n",
    "\n",
    "The output of `bucketize(movies, 'cast')` should look like this:\n",
    "\n",
    "```python\n",
    "{{'Peter Coyote': [{'title': 'Outrageous Fortune',\n",
    "                      'year': 1987,\n",
    "                      'duration': 99,\n",
    "                      'genres': ['Comedy'],\n",
    "                      'rating': 6.2,\n",
    "                      'directors': ['Arthur Hiller'],\n",
    "                      'cast': ['Shelley Long', 'Bette Midler', 'Peter Coyote', 'Robert Prosky']},\n",
    "                     {'title': 'Sphere',\n",
    "                      'year': 1998,\n",
    "                      'duration': 134,\n",
    "                      'genres': ['Action', 'Mystery', 'Sci-Fi'],\n",
    "                      'rating': 6.1,\n",
    "                      'directors': ['Barry Levinson'],\n",
    "                      'cast': ['Dustin Hoffman', 'Sharon Stone', 'Samuel L. Jackson', 'Peter Coyote']},\n",
    "                   ...\n",
    "                  ],\n",
    " 'Tchéky Karyo': [{'title': 'Vincent and Me',\n",
    "                      'year': 1990,\n",
    "                      'duration': 100,\n",
    "                      'genres': ['Drama', 'Family', 'Fantasy'],\n",
    "                      'rating': 6.2,\n",
    "                      'directors': ['Michael Rubbo'],\n",
    "                      'cast': ['Tchéky Karyo', 'Nina Petronzio', 'Christopher Forrest', 'Paul Klerk']},\n",
    "                     {'title': 'Utopía',\n",
    "                      'year': 2003,\n",
    "                      'duration': 106,\n",
    "                      'genres': ['Fantasy', 'Sci-Fi', 'Thriller'],\n",
    "                      'rating': 5.2,\n",
    "                      'directors': ['Maria Ripoll'],\n",
    "                      'cast': ['Leonardo Sbaraglia', 'Najwa Nimri', 'Tchéky Karyo', 'José Garcia']},\n",
    "                   ...\n",
    "                  ]\n",
    " ...\n",
    "} \n",
    "```\n",
    "\n",
    "**Hints:** Note that depending on whether or not the `category` represents a **list** or not, your function will have to behave differently. In P8, you created a function `bucketize_by_genre` that *bucketized* the list of movies by their genre. Take a moment to find that function; it will help you here. Also, take a moment to look at the buckets you made in Lab-P9."
   ]
  },
  {
   "cell_type": "code",
   "execution_count": 25,
   "id": "daf0903f",
   "metadata": {
    "execution": {
     "iopub.execute_input": "2024-03-19T20:07:52.836638Z",
     "iopub.status.busy": "2024-03-19T20:07:52.835639Z",
     "iopub.status.idle": "2024-03-19T20:07:52.848197Z",
     "shell.execute_reply": "2024-03-19T20:07:52.847186Z"
    },
    "tags": []
   },
   "outputs": [],
   "source": [
    "# replace the ... with your code to finish the definition of bucketize\n",
    "\n",
    "def bucketize(movie_list, category):\n",
    "    buckets = {}\n",
    "    for movie in movie_list:\n",
    "        category_value = ... #TODO: access the category value from a movie\n",
    "        # TODO: bucketize depending on the type of `category_value`\n",
    "    return buckets"
   ]
  },
  {
   "cell_type": "code",
   "execution_count": 26,
   "id": "ee74a1c6",
   "metadata": {},
   "outputs": [],
   "source": [
    "def bucketize(movie_list, category):\n",
    "    buckets = {}\n",
    "    \n",
    "    for movie in movie_list:\n",
    "        category_value = movie[category]\n",
    "        \n",
    "        if isinstance(category_value, list):\n",
    "            # If the category value is a list (e.g., 'genres', 'directors', 'cast')\n",
    "            for item in category_value:\n",
    "                if item not in buckets:\n",
    "                    buckets[item] = []\n",
    "                buckets[item].append(movie)\n",
    "        else:\n",
    "            # If the category value is a single value (e.g., 'title', 'year', 'duration', 'rating')\n",
    "            if category_value not in buckets:\n",
    "                buckets[category_value] = []\n",
    "            buckets[category_value].append(movie)\n",
    "    \n",
    "    return buckets"
   ]
  },
  {
   "cell_type": "code",
   "execution_count": 27,
   "id": "ca16b358",
   "metadata": {
    "deletable": false,
    "editable": false
   },
   "outputs": [
    {
     "data": {
      "text/html": [
       "<p><strong><pre style='display: inline;'>bucketize</pre></strong> passed! 🌟</p><p><strong><pre style='display: inline;'>bucketize - 1</pre> message:</strong> Note that the Gradescope autograder will deduct points if your code fails the following rubric point - 'input or output of the function is of wrong type (-0)'.The public tests cannot determine if your code satisfies these requirements. Verify your code manually.</p><p><strong><pre style='display: inline;'>bucketize - 2</pre> message:</strong> Note that the Gradescope autograder will deduct points if your code fails the following rubric point - 'function logic is incorrect when `category` data is stored in `movies` as a `str` or `int` (-2)'.The public tests cannot determine if your code satisfies these requirements. Verify your code manually.</p><p><strong><pre style='display: inline;'>bucketize - 3</pre> message:</strong> Note that the Gradescope autograder will deduct points if your code fails the following rubric point - 'function logic is incorrect when `category` data is stored in `movies` as a `list` (-1)'.The public tests cannot determine if your code satisfies these requirements. Verify your code manually.</p><p><strong><pre style='display: inline;'>bucketize - 4</pre> message:</strong> Note that the Gradescope autograder will deduct points if your code fails the following rubric point - 'categories are hardcoded while checking if their data is stored as a `list` or not (-1)'.The public tests cannot determine if your code satisfies these requirements. Verify your code manually.</p><p><strong><pre style='display: inline;'>bucketize - 5</pre> message:</strong> Note that the Gradescope autograder will deduct points if your code fails the following rubric point - 'function is defined more than once (-1)'.The public tests cannot determine if your code satisfies these requirements. Verify your code manually.</p>"
      ],
      "text/plain": [
       "bucketize results: All test cases passed!\n",
       "bucketize - 1 message: Note that the Gradescope autograder will deduct points if your code fails the following rubric point - 'input or output of the function is of wrong type (-0)'.The public tests cannot determine if your code satisfies these requirements. Verify your code manually.\n",
       "bucketize - 2 message: Note that the Gradescope autograder will deduct points if your code fails the following rubric point - 'function logic is incorrect when `category` data is stored in `movies` as a `str` or `int` (-2)'.The public tests cannot determine if your code satisfies these requirements. Verify your code manually.\n",
       "bucketize - 3 message: Note that the Gradescope autograder will deduct points if your code fails the following rubric point - 'function logic is incorrect when `category` data is stored in `movies` as a `list` (-1)'.The public tests cannot determine if your code satisfies these requirements. Verify your code manually.\n",
       "bucketize - 4 message: Note that the Gradescope autograder will deduct points if your code fails the following rubric point - 'categories are hardcoded while checking if their data is stored as a `list` or not (-1)'.The public tests cannot determine if your code satisfies these requirements. Verify your code manually.\n",
       "bucketize - 5 message: Note that the Gradescope autograder will deduct points if your code fails the following rubric point - 'function is defined more than once (-1)'.The public tests cannot determine if your code satisfies these requirements. Verify your code manually."
      ]
     },
     "execution_count": 27,
     "metadata": {},
     "output_type": "execute_result"
    }
   ],
   "source": [
    "grader.check(\"bucketize\")"
   ]
  },
  {
   "cell_type": "markdown",
   "id": "ed28b578",
   "metadata": {
    "deletable": false,
    "editable": false
   },
   "source": [
    "**Important:** Just like `get_movies`, `bucketize` is quite a time-consuming function to run. Hence, you do **not** want to call `bucketize` on the same list of movies and category **more than once**. Throughout the project, we will frequently use bucketized lists of movies organized by their `cast`, `directors`, `genre`, and `year`. Rather than calling `bucketize` several times, we will store the bucketized lists in the following variables:"
   ]
  },
  {
   "cell_type": "markdown",
   "id": "a82735cd-4a17-4967-9a20-939683e243ee",
   "metadata": {
    "deletable": false,
    "editable": false
   },
   "source": [
    "### Data Structure 1: `cast_buckets`\n",
    "\n",
    "Use the `bucketize` function to bucketize by the `cast`"
   ]
  },
  {
   "cell_type": "code",
   "execution_count": 28,
   "id": "cacb7901-9095-40de-8299-463ff4893dc6",
   "metadata": {
    "execution": {
     "iopub.execute_input": "2024-03-19T20:07:53.875649Z",
     "iopub.status.busy": "2024-03-19T20:07:53.875649Z",
     "iopub.status.idle": "2024-03-19T20:07:54.103072Z",
     "shell.execute_reply": "2024-03-19T20:07:54.102062Z"
    },
    "tags": []
   },
   "outputs": [],
   "source": [
    "# define `cast_buckets`, but do NOT display the output here\n",
    "\n",
    "# bucketize the full list of movies by their cast.\n",
    "cast_buckets = bucketize(movies, 'cast')\n"
   ]
  },
  {
   "cell_type": "code",
   "execution_count": 29,
   "id": "3137152f",
   "metadata": {
    "deletable": false,
    "editable": false
   },
   "outputs": [
    {
     "data": {
      "text/html": [
       "<p><strong><pre style='display: inline;'>cast_buckets</pre></strong> passed! 🌟</p><p><strong><pre style='display: inline;'>cast_buckets - 1</pre> message:</strong> Note that the Gradescope autograder will deduct points if your code fails the following rubric point - '`bucketize` function is not used (-1)'.The public tests cannot determine if your code satisfies these requirements. Verify your code manually.</p><p><strong><pre style='display: inline;'>cast_buckets - 2</pre> message:</strong> Note that the Gradescope autograder will deduct points if your code fails the following rubric point - 'data structure is defined incorrectly (-1)'.The public tests cannot determine if your code satisfies these requirements. Verify your code manually.</p>"
      ],
      "text/plain": [
       "cast_buckets results: All test cases passed!\n",
       "cast_buckets - 1 message: Note that the Gradescope autograder will deduct points if your code fails the following rubric point - '`bucketize` function is not used (-1)'.The public tests cannot determine if your code satisfies these requirements. Verify your code manually.\n",
       "cast_buckets - 2 message: Note that the Gradescope autograder will deduct points if your code fails the following rubric point - 'data structure is defined incorrectly (-1)'.The public tests cannot determine if your code satisfies these requirements. Verify your code manually."
      ]
     },
     "execution_count": 29,
     "metadata": {},
     "output_type": "execute_result"
    }
   ],
   "source": [
    "grader.check(\"cast_buckets\")"
   ]
  },
  {
   "cell_type": "markdown",
   "id": "8b6ec257-caf1-45b8-a60a-17af19481289",
   "metadata": {
    "deletable": false,
    "editable": false
   },
   "source": [
    "### Data Structure 2: `director_buckets`\n",
    "\n",
    "Use the `bucketize` function to bucketize by the `directors`"
   ]
  },
  {
   "cell_type": "code",
   "execution_count": 30,
   "id": "480a5da9-ccd9-4795-8b18-bf517c090356",
   "metadata": {
    "execution": {
     "iopub.execute_input": "2024-03-19T20:07:54.437036Z",
     "iopub.status.busy": "2024-03-19T20:07:54.437036Z",
     "iopub.status.idle": "2024-03-19T20:07:54.727501Z",
     "shell.execute_reply": "2024-03-19T20:07:54.726487Z"
    },
    "tags": []
   },
   "outputs": [],
   "source": [
    "# define `director_buckets`, but do NOT display the output here\n",
    "\n",
    "# bucketize the full list of movies by their directors.\n",
    "director_buckets = bucketize(movies, 'directors')\n"
   ]
  },
  {
   "cell_type": "code",
   "execution_count": 31,
   "id": "56b0d2c6",
   "metadata": {
    "deletable": false,
    "editable": false
   },
   "outputs": [
    {
     "data": {
      "text/html": [
       "<p><strong><pre style='display: inline;'>director_buckets</pre></strong> passed! 🌈</p><p><strong><pre style='display: inline;'>director_buckets - 1</pre> message:</strong> Note that the Gradescope autograder will deduct points if your code fails the following rubric point - '`bucketize` function is not used (-1)'.The public tests cannot determine if your code satisfies these requirements. Verify your code manually.</p><p><strong><pre style='display: inline;'>director_buckets - 2</pre> message:</strong> Note that the Gradescope autograder will deduct points if your code fails the following rubric point - 'data structure is defined incorrectly (-1)'.The public tests cannot determine if your code satisfies these requirements. Verify your code manually.</p>"
      ],
      "text/plain": [
       "director_buckets results: All test cases passed!\n",
       "director_buckets - 1 message: Note that the Gradescope autograder will deduct points if your code fails the following rubric point - '`bucketize` function is not used (-1)'.The public tests cannot determine if your code satisfies these requirements. Verify your code manually.\n",
       "director_buckets - 2 message: Note that the Gradescope autograder will deduct points if your code fails the following rubric point - 'data structure is defined incorrectly (-1)'.The public tests cannot determine if your code satisfies these requirements. Verify your code manually."
      ]
     },
     "execution_count": 31,
     "metadata": {},
     "output_type": "execute_result"
    }
   ],
   "source": [
    "grader.check(\"director_buckets\")"
   ]
  },
  {
   "cell_type": "markdown",
   "id": "91ad93ce-3574-49de-b8b1-1c102ef64366",
   "metadata": {
    "deletable": false,
    "editable": false
   },
   "source": [
    "### Data Structure 3: `genre_buckets`\n",
    "\n",
    "Use the `bucketize` function to bucketize by the `genres`"
   ]
  },
  {
   "cell_type": "code",
   "execution_count": 32,
   "id": "687c90f0-640b-4c2c-843d-984a131c1735",
   "metadata": {
    "execution": {
     "iopub.execute_input": "2024-03-19T20:07:55.059027Z",
     "iopub.status.busy": "2024-03-19T20:07:55.059027Z",
     "iopub.status.idle": "2024-03-19T20:07:55.118749Z",
     "shell.execute_reply": "2024-03-19T20:07:55.117736Z"
    },
    "tags": []
   },
   "outputs": [],
   "source": [
    "# define `genre_buckets`, but do NOT display the output here\n",
    "\n",
    "# bucketize the full list of movies by their genres.\n",
    "genre_buckets = bucketize(movies, 'genres')\n"
   ]
  },
  {
   "cell_type": "code",
   "execution_count": 33,
   "id": "f7a32bb0",
   "metadata": {
    "deletable": false,
    "editable": false
   },
   "outputs": [
    {
     "data": {
      "text/html": [
       "<p><strong><pre style='display: inline;'>genre_buckets</pre></strong> passed! 🎉</p><p><strong><pre style='display: inline;'>genre_buckets - 1</pre> message:</strong> Note that the Gradescope autograder will deduct points if your code fails the following rubric point - '`bucketize` function is not used (-1)'.The public tests cannot determine if your code satisfies these requirements. Verify your code manually.</p><p><strong><pre style='display: inline;'>genre_buckets - 2</pre> message:</strong> Note that the Gradescope autograder will deduct points if your code fails the following rubric point - 'data structure is defined incorrectly (-1)'.The public tests cannot determine if your code satisfies these requirements. Verify your code manually.</p>"
      ],
      "text/plain": [
       "genre_buckets results: All test cases passed!\n",
       "genre_buckets - 1 message: Note that the Gradescope autograder will deduct points if your code fails the following rubric point - '`bucketize` function is not used (-1)'.The public tests cannot determine if your code satisfies these requirements. Verify your code manually.\n",
       "genre_buckets - 2 message: Note that the Gradescope autograder will deduct points if your code fails the following rubric point - 'data structure is defined incorrectly (-1)'.The public tests cannot determine if your code satisfies these requirements. Verify your code manually."
      ]
     },
     "execution_count": 33,
     "metadata": {},
     "output_type": "execute_result"
    }
   ],
   "source": [
    "grader.check(\"genre_buckets\")"
   ]
  },
  {
   "cell_type": "markdown",
   "id": "16a74405-3eed-45b6-be22-3986c50f82d0",
   "metadata": {
    "deletable": false,
    "editable": false
   },
   "source": [
    "### Data Structure 4: `year_buckets`\n",
    "\n",
    "Use the `bucketize` function to bucketize by the `year`"
   ]
  },
  {
   "cell_type": "code",
   "execution_count": 34,
   "id": "302ceda6-d282-46ba-970c-9e3c63019b89",
   "metadata": {
    "execution": {
     "iopub.execute_input": "2024-03-19T20:07:55.453505Z",
     "iopub.status.busy": "2024-03-19T20:07:55.452526Z",
     "iopub.status.idle": "2024-03-19T20:07:55.487605Z",
     "shell.execute_reply": "2024-03-19T20:07:55.486596Z"
    },
    "tags": []
   },
   "outputs": [],
   "source": [
    "# define `year_buckets`, but do NOT display the output here\n",
    "\n",
    "# bucketize the full list of movies by their cast.\n",
    "year_buckets = bucketize(movies, 'year')\n"
   ]
  },
  {
   "cell_type": "code",
   "execution_count": 35,
   "id": "790d51e8",
   "metadata": {
    "deletable": false,
    "editable": false
   },
   "outputs": [
    {
     "data": {
      "text/html": [
       "<p><strong><pre style='display: inline;'>year_buckets</pre></strong> passed! 🌟</p><p><strong><pre style='display: inline;'>year_buckets - 1</pre> message:</strong> Note that the Gradescope autograder will deduct points if your code fails the following rubric point - '`bucketize` function is not used (-1)'.The public tests cannot determine if your code satisfies these requirements. Verify your code manually.</p><p><strong><pre style='display: inline;'>year_buckets - 2</pre> message:</strong> Note that the Gradescope autograder will deduct points if your code fails the following rubric point - 'data structure is defined incorrectly (-1)'.The public tests cannot determine if your code satisfies these requirements. Verify your code manually.</p>"
      ],
      "text/plain": [
       "year_buckets results: All test cases passed!\n",
       "year_buckets - 1 message: Note that the Gradescope autograder will deduct points if your code fails the following rubric point - '`bucketize` function is not used (-1)'.The public tests cannot determine if your code satisfies these requirements. Verify your code manually.\n",
       "year_buckets - 2 message: Note that the Gradescope autograder will deduct points if your code fails the following rubric point - 'data structure is defined incorrectly (-1)'.The public tests cannot determine if your code satisfies these requirements. Verify your code manually."
      ]
     },
     "execution_count": 35,
     "metadata": {},
     "output_type": "execute_result"
    }
   ],
   "source": [
    "grader.check(\"year_buckets\")"
   ]
  },
  {
   "cell_type": "markdown",
   "id": "08508a50",
   "metadata": {
    "deletable": false,
    "editable": false
   },
   "source": [
    "Even when you are not explicitly prompted to do so, using these data structures and the `bucketize` function cleverly can simplify your code significantly. Keep an eye out for how you can simplify your code by making use of these data structures and the `bucketize` function.\n",
    "\n",
    "Remember, you can still use the `bucketize` function on a subset of the `movies` data structure (i.e. not the whole `movies` dataset). You are **not** limited to only using the variables defined above."
   ]
  },
  {
   "cell_type": "markdown",
   "id": "0c3a4374",
   "metadata": {
    "deletable": false,
    "editable": false
   },
   "source": [
    "**Question 3:** List the movies that *Margot Robbie* was `cast` in.\n",
    "\n",
    "Your output **must** be a **list** of **dictionaries**. You **must** answer this question by accessing the **value** of the correct **key** from the correct **bucket** defined in the previous cell."
   ]
  },
  {
   "cell_type": "code",
   "execution_count": 36,
   "id": "0b7a9fdc",
   "metadata": {
    "execution": {
     "iopub.execute_input": "2024-03-19T20:07:55.835690Z",
     "iopub.status.busy": "2024-03-19T20:07:55.835690Z",
     "iopub.status.idle": "2024-03-19T20:07:55.848633Z",
     "shell.execute_reply": "2024-03-19T20:07:55.847623Z"
    },
    "tags": []
   },
   "outputs": [
    {
     "data": {
      "text/plain": [
       "[{'title': 'The Suicide Squad',\n",
       "  'year': 2021,\n",
       "  'duration': 132,\n",
       "  'genres': ['Action', 'Adventure', 'Comedy'],\n",
       "  'rating': 7.2,\n",
       "  'directors': ['James Gunn'],\n",
       "  'cast': ['Margot Robbie', 'Idris Elba', 'John Cena', 'Joel Kinnaman']},\n",
       " {'title': 'Z for Zachariah',\n",
       "  'year': 2015,\n",
       "  'duration': 98,\n",
       "  'genres': ['Drama', 'Romance', 'Sci-Fi'],\n",
       "  'rating': 6.0,\n",
       "  'directors': ['Craig Zobel'],\n",
       "  'cast': ['Chiwetel Ejiofor', 'Chris Pine', 'Margot Robbie']},\n",
       " {'title': 'Bombshell',\n",
       "  'year': 2019,\n",
       "  'duration': 109,\n",
       "  'genres': ['Biography', 'Drama'],\n",
       "  'rating': 6.8,\n",
       "  'directors': ['Jay Roach'],\n",
       "  'cast': ['Charlize Theron',\n",
       "   'Nicole Kidman',\n",
       "   'Margot Robbie',\n",
       "   'John Lithgow']},\n",
       " {'title': 'Suite Française',\n",
       "  'year': 2014,\n",
       "  'duration': 107,\n",
       "  'genres': ['Drama', 'Romance', 'Thriller'],\n",
       "  'rating': 7.0,\n",
       "  'directors': ['Saul Dibb'],\n",
       "  'cast': ['Michelle Williams',\n",
       "   'Kristin Scott Thomas',\n",
       "   'Margot Robbie',\n",
       "   'Eric Godon']},\n",
       " {'title': 'Dreamland',\n",
       "  'year': 2019,\n",
       "  'duration': 98,\n",
       "  'genres': ['Drama', 'Thriller', 'Western'],\n",
       "  'rating': 5.9,\n",
       "  'directors': ['Miles Joris-Peyrafitte'],\n",
       "  'cast': ['Finn Cole', 'Margot Robbie', 'Travis Fimmel', 'Kerry Condon']},\n",
       " {'title': 'Barbie',\n",
       "  'year': 2023,\n",
       "  'duration': 114,\n",
       "  'genres': ['Adventure', 'Comedy', 'Fantasy'],\n",
       "  'rating': 6.9,\n",
       "  'directors': ['Greta Gerwig'],\n",
       "  'cast': ['Margot Robbie', 'Ryan Gosling', 'Issa Rae', 'Kate McKinnon']},\n",
       " {'title': 'The Wolf of Wall Street',\n",
       "  'year': 2013,\n",
       "  'duration': 180,\n",
       "  'genres': ['Biography', 'Comedy', 'Crime'],\n",
       "  'rating': 8.2,\n",
       "  'directors': ['Martin Scorsese'],\n",
       "  'cast': ['Leonardo DiCaprio',\n",
       "   'Jonah Hill',\n",
       "   'Margot Robbie',\n",
       "   'Matthew McConaughey']},\n",
       " {'title': 'Goodbye Christopher Robin',\n",
       "  'year': 2017,\n",
       "  'duration': 107,\n",
       "  'genres': ['Biography', 'Drama', 'Family'],\n",
       "  'rating': 7.1,\n",
       "  'directors': ['Simon Curtis'],\n",
       "  'cast': ['Domhnall Gleeson',\n",
       "   'Margot Robbie',\n",
       "   'Kelly Macdonald',\n",
       "   'Vicki Pepperdine']},\n",
       " {'title': 'Terminal',\n",
       "  'year': 2018,\n",
       "  'duration': 95,\n",
       "  'genres': ['Action', 'Comedy', 'Crime'],\n",
       "  'rating': 5.3,\n",
       "  'directors': ['Vaughn Stein'],\n",
       "  'cast': ['Margot Robbie', 'Simon Pegg', 'Dexter Fletcher', 'Mike Myers']},\n",
       " {'title': 'I.C.U.',\n",
       "  'year': 2009,\n",
       "  'duration': 85,\n",
       "  'genres': ['Horror', 'Thriller'],\n",
       "  'rating': 2.5,\n",
       "  'directors': ['Aash Aaron'],\n",
       "  'cast': ['Margot Robbie',\n",
       "   'Christian Radford',\n",
       "   'James Dean',\n",
       "   'Natalie Hoflin']},\n",
       " {'title': 'Focus',\n",
       "  'year': 2015,\n",
       "  'duration': 105,\n",
       "  'genres': ['Comedy', 'Crime', 'Drama'],\n",
       "  'rating': 6.6,\n",
       "  'directors': ['Glenn Ficarra', 'John Requa'],\n",
       "  'cast': ['Will Smith',\n",
       "   'Margot Robbie',\n",
       "   'Rodrigo Santoro',\n",
       "   'Adrian Martinez']},\n",
       " {'title': 'Birds of Prey',\n",
       "  'year': 2020,\n",
       "  'duration': 109,\n",
       "  'genres': ['Action', 'Comedy', 'Crime'],\n",
       "  'rating': 6.1,\n",
       "  'directors': ['Cathy Yan'],\n",
       "  'cast': ['Margot Robbie',\n",
       "   'Rosie Perez',\n",
       "   'Mary Elizabeth Winstead',\n",
       "   'Jurnee Smollett']},\n",
       " {'title': 'Mary Queen of Scots',\n",
       "  'year': 2018,\n",
       "  'duration': 124,\n",
       "  'genres': ['Biography', 'Drama', 'History'],\n",
       "  'rating': 6.3,\n",
       "  'directors': ['Josie Rourke'],\n",
       "  'cast': ['Saoirse Ronan', 'Margot Robbie', 'Jack Lowden', 'Joe Alwyn']},\n",
       " {'title': 'Once Upon a Time... in Hollywood',\n",
       "  'year': 2019,\n",
       "  'duration': 161,\n",
       "  'genres': ['Comedy', 'Drama'],\n",
       "  'rating': 7.6,\n",
       "  'directors': ['Quentin Tarantino'],\n",
       "  'cast': ['Leonardo DiCaprio', 'Brad Pitt', 'Margot Robbie', 'Emile Hirsch']},\n",
       " {'title': 'Babylon',\n",
       "  'year': 2022,\n",
       "  'duration': 189,\n",
       "  'genres': ['Comedy', 'Drama', 'History'],\n",
       "  'rating': 7.1,\n",
       "  'directors': ['Damien Chazelle'],\n",
       "  'cast': ['Brad Pitt', 'Margot Robbie', 'Jean Smart', 'Olivia Wilde']},\n",
       " {'title': 'I, Tonya',\n",
       "  'year': 2017,\n",
       "  'duration': 119,\n",
       "  'genres': ['Biography', 'Comedy', 'Drama'],\n",
       "  'rating': 7.5,\n",
       "  'directors': ['Craig Gillespie'],\n",
       "  'cast': ['Margot Robbie',\n",
       "   'Sebastian Stan',\n",
       "   'Allison Janney',\n",
       "   'Julianne Nicholson']},\n",
       " {'title': 'Suicide Squad',\n",
       "  'year': 2016,\n",
       "  'duration': 123,\n",
       "  'genres': ['Action', 'Adventure', 'Fantasy'],\n",
       "  'rating': 5.9,\n",
       "  'directors': ['David Ayer'],\n",
       "  'cast': ['Will Smith', 'Jared Leto', 'Margot Robbie', 'Viola Davis']},\n",
       " {'title': 'Whiskey Tango Foxtrot',\n",
       "  'year': 2016,\n",
       "  'duration': 112,\n",
       "  'genres': ['Biography', 'Comedy', 'Drama'],\n",
       "  'rating': 6.6,\n",
       "  'directors': ['Glenn Ficarra', 'John Requa'],\n",
       "  'cast': ['Tina Fey', 'Margot Robbie', 'Martin Freeman', 'Alfred Molina']},\n",
       " {'title': 'Vigilante',\n",
       "  'year': 2008,\n",
       "  'duration': 90,\n",
       "  'genres': ['Action'],\n",
       "  'rating': 2.6,\n",
       "  'directors': ['Aash Aaron'],\n",
       "  'cast': ['Robert Díaz', 'Kazuya Wright', 'Lexie Symon', 'Margot Robbie']},\n",
       " {'title': 'Amsterdam',\n",
       "  'year': 2022,\n",
       "  'duration': 134,\n",
       "  'genres': ['Comedy', 'Drama', 'History'],\n",
       "  'rating': 6.1,\n",
       "  'directors': ['David O. Russell'],\n",
       "  'cast': ['Christian Bale',\n",
       "   'Margot Robbie',\n",
       "   'John David Washington',\n",
       "   'Alessandro Nivola']}]"
      ]
     },
     "execution_count": 36,
     "metadata": {},
     "output_type": "execute_result"
    }
   ],
   "source": [
    "# compute and store the answer in the variable 'robbie_movies', then display it\n",
    "robbie_movies = cast_buckets['Margot Robbie']\n",
    "robbie_movies"
   ]
  },
  {
   "cell_type": "code",
   "execution_count": 37,
   "id": "c25af379",
   "metadata": {
    "deletable": false,
    "editable": false
   },
   "outputs": [
    {
     "data": {
      "text/html": [
       "<p><strong><pre style='display: inline;'>q3</pre></strong> passed! 🌈</p><p><strong><pre style='display: inline;'>q3 - 2</pre> message:</strong> Note that the Gradescope autograder will deduct points if your code fails the following rubric point - '`cast_buckets` data structure is not used (-2)'.The public tests cannot determine if your code satisfies these requirements. Verify your code manually.</p>"
      ],
      "text/plain": [
       "q3 results: All test cases passed!\n",
       "q3 - 2 message: Note that the Gradescope autograder will deduct points if your code fails the following rubric point - '`cast_buckets` data structure is not used (-2)'.The public tests cannot determine if your code satisfies these requirements. Verify your code manually."
      ]
     },
     "execution_count": 37,
     "metadata": {},
     "output_type": "execute_result"
    }
   ],
   "source": [
    "grader.check(\"q3\")"
   ]
  },
  {
   "cell_type": "markdown",
   "id": "1695bc80",
   "metadata": {
    "deletable": false,
    "editable": false
   },
   "source": [
    "**Question 4:** **Plot** the **number** of movies in each *genre* as a **bar graph**.\n",
    "\n",
    "You **must** first compute a **dictionary** which maps each **genre** to the **number** of movies in that **genre**."
   ]
  },
  {
   "cell_type": "code",
   "execution_count": 38,
   "id": "dfecaff8",
   "metadata": {
    "execution": {
     "iopub.execute_input": "2024-03-19T20:07:56.024755Z",
     "iopub.status.busy": "2024-03-19T20:07:56.023774Z",
     "iopub.status.idle": "2024-03-19T20:07:56.031768Z",
     "shell.execute_reply": "2024-03-19T20:07:56.031068Z"
    },
    "tags": []
   },
   "outputs": [
    {
     "data": {
      "text/plain": [
       "{'Crime': 10875,\n",
       " 'Mystery': 5654,\n",
       " 'Thriller': 11011,\n",
       " 'Drama': 41960,\n",
       " 'Romance': 12652,\n",
       " 'Adventure': 7103,\n",
       " 'Comedy': 24973,\n",
       " 'Music': 1665,\n",
       " 'Horror': 9503,\n",
       " 'Action': 12133,\n",
       " 'Family': 3557,\n",
       " 'Fantasy': 3621,\n",
       " 'Biography': 2586,\n",
       " 'Documentary': 1396,\n",
       " 'History': 2311,\n",
       " 'War': 1903,\n",
       " 'Animation': 2135,\n",
       " 'Western': 1309,\n",
       " 'Musical': 1569,\n",
       " 'Sci-Fi': 3396,\n",
       " 'Film-Noir': 673,\n",
       " 'Sport': 1143,\n",
       " 'News': 20,\n",
       " 'Reality-TV': 1}"
      ]
     },
     "execution_count": 38,
     "metadata": {},
     "output_type": "execute_result"
    }
   ],
   "source": [
    "# first compute and store the dictionary in the variable 'genre_num', then display it\n",
    "# do NOT plot just yet\n",
    "\n",
    "# first compute and store the dictionary in the variable 'genre_num', then display it\n",
    "genre_num = {genre: len(movies) for genre, movies in genre_buckets.items()}\n",
    "genre_num"
   ]
  },
  {
   "cell_type": "markdown",
   "id": "3ce293b0",
   "metadata": {
    "deletable": false,
    "editable": false
   },
   "source": [
    "Now, **plot** `genre_num` as a **bar graph**. Your plot should look like this:"
   ]
  },
  {
   "attachments": {
    "q4.jpg": {
     "image/jpeg": "[encoded data removed]"
    }
   },
   "cell_type": "markdown",
   "id": "9b517a60",
   "metadata": {},
   "source": [
    "<div style=\"text-align: center;\"><img src=\"attachment:q4.jpg\" style=\"height: 300px;\"/></div>"
   ]
  },
  {
   "cell_type": "code",
   "execution_count": 39,
   "id": "711540ef",
   "metadata": {
    "execution": {
     "iopub.execute_input": "2024-03-19T20:07:56.036803Z",
     "iopub.status.busy": "2024-03-19T20:07:56.035783Z",
     "iopub.status.idle": "2024-03-19T20:07:57.028855Z",
     "shell.execute_reply": "2024-03-19T20:07:57.027845Z"
    },
    "tags": []
   },
   "outputs": [
    {
     "data": {
      "image/png": "[encoded data removed]",
      "text/plain": [
       "<Figure size 1000x400 with 1 Axes>"
      ]
     },
     "metadata": {},
     "output_type": "display_data"
    }
   ],
   "source": [
    "# plot 'genre_num' with the y-axis labelled 'number of movies'\n",
    "\n",
    "plot_dict(genre_num, 'number of movies')"
   ]
  },
  {
   "cell_type": "code",
   "execution_count": 40,
   "id": "5d7e3de0",
   "metadata": {
    "deletable": false,
    "editable": false
   },
   "outputs": [
    {
     "data": {
      "text/html": [
       "<p><strong><pre style='display: inline;'>q4</pre></strong> passed! 💯</p><p><strong><pre style='display: inline;'>q4 - 2</pre> message:</strong> Note that the Gradescope autograder will deduct points if your code fails the following rubric point - 'incorrect logic is used to answer (-2)'.The public tests cannot determine if your code satisfies these requirements. Verify your code manually.</p><p><strong><pre style='display: inline;'>q4 - 3</pre> message:</strong> Note that the Gradescope autograder will deduct points if your code fails the following rubric point - 'plot is incorrect (-1)'.The public tests cannot determine if your code satisfies these requirements. Verify your code manually.</p><p><strong><pre style='display: inline;'>q4 - 4</pre> message:</strong> Note that the Gradescope autograder will deduct points if your code fails the following rubric point - 'plot is not properly labeled (-1)'.The public tests cannot determine if your code satisfies these requirements. Verify your code manually.</p>"
      ],
      "text/plain": [
       "q4 results: All test cases passed!\n",
       "q4 - 2 message: Note that the Gradescope autograder will deduct points if your code fails the following rubric point - 'incorrect logic is used to answer (-2)'.The public tests cannot determine if your code satisfies these requirements. Verify your code manually.\n",
       "q4 - 3 message: Note that the Gradescope autograder will deduct points if your code fails the following rubric point - 'plot is incorrect (-1)'.The public tests cannot determine if your code satisfies these requirements. Verify your code manually.\n",
       "q4 - 4 message: Note that the Gradescope autograder will deduct points if your code fails the following rubric point - 'plot is not properly labeled (-1)'.The public tests cannot determine if your code satisfies these requirements. Verify your code manually."
      ]
     },
     "execution_count": 40,
     "metadata": {},
     "output_type": "execute_result"
    }
   ],
   "source": [
    "grader.check(\"q4\")"
   ]
  },
  {
   "cell_type": "markdown",
   "id": "ecc40640",
   "metadata": {
    "deletable": false,
    "editable": false
   },
   "source": [
    "**Food for thought:** Can you tell what the most popular **genres** are from the plot? Do you see anything surprising in this plot?"
   ]
  },
  {
   "cell_type": "code",
   "execution_count": 41,
   "id": "243a1082",
   "metadata": {
    "execution": {
     "iopub.execute_input": "2024-03-19T20:07:57.542371Z",
     "iopub.status.busy": "2024-03-19T20:07:57.542371Z",
     "iopub.status.idle": "2024-03-19T20:07:57.547397Z",
     "shell.execute_reply": "2024-03-19T20:07:57.546386Z"
    }
   },
   "outputs": [],
   "source": [
    "# Food for thought is an entirely OPTIONAL exercise\n",
    "# you may leave your thoughts here as a comment if you wish to\n"
   ]
  },
  {
   "cell_type": "markdown",
   "id": "0757ee11",
   "metadata": {
    "deletable": false,
    "editable": false
   },
   "source": [
    "**Question 5:** **Plot** the **number** of movies **directed** by *Stanley Kubrick* in each *genre* as a **bar graph**.\n",
    "\n",
    "You **must** only include those `genres` in which *Stanley Kubrick* has directed **at least** one movie, in your plot.\n",
    "\n",
    "You **must** first compute a **dictionary** which maps each **genre** to the **number** of movies in that **genre** directed by *Stanley Kubrick*.\n",
    "\n",
    "**Hint:** Think about how you can use functions such as `bucketize` on a subset of movies for the category that you are interested in."
   ]
  },
  {
   "cell_type": "code",
   "execution_count": 42,
   "id": "d6a7c7bb",
   "metadata": {
    "execution": {
     "iopub.execute_input": "2024-03-19T20:07:57.551418Z",
     "iopub.status.busy": "2024-03-19T20:07:57.551418Z",
     "iopub.status.idle": "2024-03-19T20:07:57.559491Z",
     "shell.execute_reply": "2024-03-19T20:07:57.558479Z"
    },
    "tags": []
   },
   "outputs": [
    {
     "data": {
      "text/plain": [
       "{'Crime': 3,\n",
       " 'Sci-Fi': 2,\n",
       " 'Drama': 9,\n",
       " 'Mystery': 1,\n",
       " 'Thriller': 2,\n",
       " 'Adventure': 3,\n",
       " 'War': 5,\n",
       " 'Film-Noir': 2,\n",
       " 'Comedy': 1,\n",
       " 'Horror': 1,\n",
       " 'Biography': 1}"
      ]
     },
     "execution_count": 42,
     "metadata": {},
     "output_type": "execute_result"
    }
   ],
   "source": [
    "# first compute and store the dictionary in the variable 'kubrick_genres', then display it\n",
    "# do NOT plot just yet\n",
    "\n",
    "kubrick_movies = director_buckets['Stanley Kubrick']\n",
    "kubrick_genres = {genre: len(bucketize(kubrick_movies, 'genres')[genre]) for genre in bucketize(kubrick_movies, 'genres')}\n",
    "kubrick_genres"
   ]
  },
  {
   "cell_type": "markdown",
   "id": "40fec1f8",
   "metadata": {
    "deletable": false,
    "editable": false
   },
   "source": [
    "Now, **plot** `kubrick_genres` as a **bar graph**. Your plot should look like this:"
   ]
  },
  {
   "attachments": {
    "q5.jpg": {
     "image/jpeg": "[encoded data removed]"
    }
   },
   "cell_type": "markdown",
   "id": "e35eb3d5",
   "metadata": {},
   "source": [
    "<div style=\"text-align: center;\"><img src=\"attachment:q5.jpg\" style=\"height: 300px;\"/></div>"
   ]
  },
  {
   "cell_type": "code",
   "execution_count": 43,
   "id": "f32adf53",
   "metadata": {
    "execution": {
     "iopub.execute_input": "2024-03-19T20:07:57.563510Z",
     "iopub.status.busy": "2024-03-19T20:07:57.563510Z",
     "iopub.status.idle": "2024-03-19T20:07:57.808287Z",
     "shell.execute_reply": "2024-03-19T20:07:57.807278Z"
    },
    "tags": []
   },
   "outputs": [
    {
     "data": {
      "image/png": "[encoded data removed]",
      "text/plain": [
       "<Figure size 600x400 with 1 Axes>"
      ]
     },
     "metadata": {},
     "output_type": "display_data"
    }
   ],
   "source": [
    "# now plot 'kubrick_genres' with the y-axis labelled 'number of movies'\n",
    "plot_dict(kubrick_genres, 'number of movies')"
   ]
  },
  {
   "cell_type": "code",
   "execution_count": 44,
   "id": "13a82de5",
   "metadata": {
    "deletable": false,
    "editable": false
   },
   "outputs": [
    {
     "data": {
      "text/html": [
       "<p><strong><pre style='display: inline;'>q5</pre></strong> passed! ✨</p><p><strong><pre style='display: inline;'>q5 - 2</pre> message:</strong> Note that the Gradescope autograder will deduct points if your code fails the following rubric point - 'incorrect logic is used to answer (-2)'.The public tests cannot determine if your code satisfies these requirements. Verify your code manually.</p><p><strong><pre style='display: inline;'>q5 - 3</pre> message:</strong> Note that the Gradescope autograder will deduct points if your code fails the following rubric point - 'plot is incorrect (-1)'.The public tests cannot determine if your code satisfies these requirements. Verify your code manually.</p><p><strong><pre style='display: inline;'>q5 - 4</pre> message:</strong> Note that the Gradescope autograder will deduct points if your code fails the following rubric point - 'plot is not properly labeled (-1)'.The public tests cannot determine if your code satisfies these requirements. Verify your code manually.</p>"
      ],
      "text/plain": [
       "q5 results: All test cases passed!\n",
       "q5 - 2 message: Note that the Gradescope autograder will deduct points if your code fails the following rubric point - 'incorrect logic is used to answer (-2)'.The public tests cannot determine if your code satisfies these requirements. Verify your code manually.\n",
       "q5 - 3 message: Note that the Gradescope autograder will deduct points if your code fails the following rubric point - 'plot is incorrect (-1)'.The public tests cannot determine if your code satisfies these requirements. Verify your code manually.\n",
       "q5 - 4 message: Note that the Gradescope autograder will deduct points if your code fails the following rubric point - 'plot is not properly labeled (-1)'.The public tests cannot determine if your code satisfies these requirements. Verify your code manually."
      ]
     },
     "execution_count": 44,
     "metadata": {},
     "output_type": "execute_result"
    }
   ],
   "source": [
    "grader.check(\"q5\")"
   ]
  },
  {
   "cell_type": "markdown",
   "id": "502f4ae5",
   "metadata": {
    "deletable": false,
    "editable": false
   },
   "source": [
    "**Food for thought:** Can you similarly **plot** the **number** of films directed by your favorite director or starring your favorite cast member in each **genre**?"
   ]
  },
  {
   "cell_type": "code",
   "execution_count": 45,
   "id": "074435e5",
   "metadata": {
    "execution": {
     "iopub.execute_input": "2024-03-19T20:07:58.315076Z",
     "iopub.status.busy": "2024-03-19T20:07:58.315076Z",
     "iopub.status.idle": "2024-03-19T20:07:58.320150Z",
     "shell.execute_reply": "2024-03-19T20:07:58.319139Z"
    }
   },
   "outputs": [],
   "source": [
    "# Food for thought is an entirely OPTIONAL exercise\n",
    "# you may leave your thoughts here as a comment if you wish to\n"
   ]
  },
  {
   "cell_type": "markdown",
   "id": "c5d3f62e",
   "metadata": {
    "deletable": false,
    "editable": false
   },
   "source": [
    "**Question 6:** **Plot** the **number** of **Sci-Fi** movies released in each *decade* as a **bar graph**.\n",
    "\n",
    "You **must** first compute a **dictionary** which maps each **decade** to the **number** of movies in released in that **decade**. This dictionary should look like this:\n",
    "\n",
    "```python\n",
    "{'1991 to 2000': 389,\n",
    " '1981 to 1990': 381,\n",
    " '1971 to 1980': 240,\n",
    " '2011 to 2020': 1109,\n",
    " '2001 to 2010': 529,\n",
    " '2021 to 2030': 285,\n",
    " '1951 to 1960': 198,\n",
    " '1961 to 1970': 202,\n",
    " '1911 to 1920': 6,\n",
    " '1941 to 1950': 24,\n",
    " '1931 to 1940': 29,\n",
    " '1921 to 1930': 4}\n",
    "```\n",
    "\n",
    "**Hint:** You should use `year_to_decade` function to get the decade for a movie's year"
   ]
  },
  {
   "cell_type": "code",
   "execution_count": 46,
   "id": "52e0d794",
   "metadata": {
    "execution": {
     "iopub.execute_input": "2024-03-19T20:07:58.325150Z",
     "iopub.status.busy": "2024-03-19T20:07:58.324150Z",
     "iopub.status.idle": "2024-03-19T20:07:58.336130Z",
     "shell.execute_reply": "2024-03-19T20:07:58.335121Z"
    },
    "tags": []
   },
   "outputs": [
    {
     "data": {
      "text/plain": [
       "{'1991 to 2000': 389,\n",
       " '1981 to 1990': 381,\n",
       " '1971 to 1980': 240,\n",
       " '2011 to 2020': 1109,\n",
       " '2001 to 2010': 529,\n",
       " '2021 to 2030': 285,\n",
       " '1951 to 1960': 198,\n",
       " '1961 to 1970': 202,\n",
       " '1911 to 1920': 6,\n",
       " '1941 to 1950': 24,\n",
       " '1931 to 1940': 29,\n",
       " '1921 to 1930': 4}"
      ]
     },
     "execution_count": 46,
     "metadata": {},
     "output_type": "execute_result"
    }
   ],
   "source": [
    "# first compute and store the dictionary in the variable 'sci_fi_decade_mapping', then display it\n",
    "# do NOT plot just yet\n",
    "\n",
    "# first compute and store the dictionary in the variable 'sci_fi_decade_mapping', then display it\n",
    "sci_fi_movies = genre_buckets['Sci-Fi']\n",
    "sci_fi_decade_mapping = {}\n",
    "\n",
    "for movie in sci_fi_movies:\n",
    "    decade = year_to_decade(movie['year'])\n",
    "    if decade not in sci_fi_decade_mapping:\n",
    "        sci_fi_decade_mapping[decade] = 0\n",
    "    sci_fi_decade_mapping[decade] += 1\n",
    "\n",
    "sci_fi_decade_mapping"
   ]
  },
  {
   "cell_type": "markdown",
   "id": "4339f5b8",
   "metadata": {
    "deletable": false,
    "editable": false
   },
   "source": [
    "Now, **plot** `sci_fi_decade_mapping` as a **bar graph**. Your plot should look like this:"
   ]
  },
  {
   "attachments": {
    "q6.jpg": {
     "image/jpeg": "[encoded data removed]"
    }
   },
   "cell_type": "markdown",
   "id": "d9c54e25",
   "metadata": {},
   "source": [
    "<div style=\"text-align: center;\"><img src=\"attachment:q6.jpg\" style=\"height: 300px;\"/></div>"
   ]
  },
  {
   "cell_type": "code",
   "execution_count": 47,
   "id": "bcade1a3",
   "metadata": {
    "execution": {
     "iopub.execute_input": "2024-03-19T20:07:58.341132Z",
     "iopub.status.busy": "2024-03-19T20:07:58.340129Z",
     "iopub.status.idle": "2024-03-19T20:07:58.628250Z",
     "shell.execute_reply": "2024-03-19T20:07:58.627241Z"
    },
    "tags": []
   },
   "outputs": [
    {
     "data": {
      "image/png": "[encoded data removed]",
      "text/plain": [
       "<Figure size 700x400 with 1 Axes>"
      ]
     },
     "metadata": {},
     "output_type": "display_data"
    }
   ],
   "source": [
    "# now plot 'sci_fi_decade_mapping' with the y-axis labelled 'Sci-Fi movies released'\n",
    "plot_dict(sci_fi_decade_mapping, 'Sci-Fi movies released')"
   ]
  },
  {
   "cell_type": "code",
   "execution_count": 48,
   "id": "7386fecd",
   "metadata": {
    "deletable": false,
    "editable": false
   },
   "outputs": [
    {
     "data": {
      "text/html": [
       "<p><strong><pre style='display: inline;'>q6</pre></strong> passed! 🙌</p><p><strong><pre style='display: inline;'>q6 - 2</pre> message:</strong> Note that the Gradescope autograder will deduct points if your code fails the following rubric point - 'incorrect logic is used to answer (-2)'.The public tests cannot determine if your code satisfies these requirements. Verify your code manually.</p><p><strong><pre style='display: inline;'>q6 - 3</pre> message:</strong> Note that the Gradescope autograder will deduct points if your code fails the following rubric point - 'plot is incorrect (-1)'.The public tests cannot determine if your code satisfies these requirements. Verify your code manually.</p><p><strong><pre style='display: inline;'>q6 - 4</pre> message:</strong> Note that the Gradescope autograder will deduct points if your code fails the following rubric point - 'plot is not properly labeled (-1)'.The public tests cannot determine if your code satisfies these requirements. Verify your code manually.</p>"
      ],
      "text/plain": [
       "q6 results: All test cases passed!\n",
       "q6 - 2 message: Note that the Gradescope autograder will deduct points if your code fails the following rubric point - 'incorrect logic is used to answer (-2)'.The public tests cannot determine if your code satisfies these requirements. Verify your code manually.\n",
       "q6 - 3 message: Note that the Gradescope autograder will deduct points if your code fails the following rubric point - 'plot is incorrect (-1)'.The public tests cannot determine if your code satisfies these requirements. Verify your code manually.\n",
       "q6 - 4 message: Note that the Gradescope autograder will deduct points if your code fails the following rubric point - 'plot is not properly labeled (-1)'.The public tests cannot determine if your code satisfies these requirements. Verify your code manually."
      ]
     },
     "execution_count": 48,
     "metadata": {},
     "output_type": "execute_result"
    }
   ],
   "source": [
    "grader.check(\"q6\")"
   ]
  },
  {
   "cell_type": "markdown",
   "id": "f0da26eb",
   "metadata": {
    "deletable": false,
    "editable": false
   },
   "source": [
    "**Food for thought:** Can you explain the shape of this plot? Why do you think the number of Sci-Fi movies increased so rapidly over the last decade? If you want, you could compare this plot against plots of other genres (such as `Western` or `Horror`)."
   ]
  },
  {
   "cell_type": "code",
   "execution_count": 49,
   "id": "46933f0e",
   "metadata": {
    "execution": {
     "iopub.execute_input": "2024-03-19T20:07:59.136746Z",
     "iopub.status.busy": "2024-03-19T20:07:59.136746Z",
     "iopub.status.idle": "2024-03-19T20:07:59.142037Z",
     "shell.execute_reply": "2024-03-19T20:07:59.141028Z"
    }
   },
   "outputs": [],
   "source": [
    "# Food for thought is an entirely OPTIONAL exercise\n",
    "# you may leave your thoughts here as a comment if you wish to\n"
   ]
  },
  {
   "cell_type": "markdown",
   "id": "8e467d3f",
   "metadata": {
    "deletable": false,
    "editable": false
   },
   "source": [
    "**Question 7:** **Plot** the **median** `rating` of movies in each `genre` directed by *James Cameron* as a **bar graph**.\n",
    "\n",
    "You **must** first compute a **dictionary** which maps each **genre** of movies directed by *James Cameron* to the **median** `rating` of all movies in that **genre**. Note that your dictionary **must not** contain any genres in which *James Cameron* has not directed any movie."
   ]
  },
  {
   "cell_type": "code",
   "execution_count": 50,
   "id": "d24531e5",
   "metadata": {
    "execution": {
     "iopub.execute_input": "2024-03-19T20:07:59.149037Z",
     "iopub.status.busy": "2024-03-19T20:07:59.148039Z",
     "iopub.status.idle": "2024-03-19T20:07:59.157514Z",
     "shell.execute_reply": "2024-03-19T20:07:59.156503Z"
    },
    "tags": []
   },
   "outputs": [
    {
     "data": {
      "text/plain": [
       "{'Action': 8.0,\n",
       " 'Adventure': 7.75,\n",
       " 'Fantasy': 7.75,\n",
       " 'Drama': 7.7,\n",
       " 'Romance': 7.9,\n",
       " 'Sci-Fi': 8.25,\n",
       " 'Comedy': 7.3,\n",
       " 'Thriller': 5.55,\n",
       " 'Mystery': 7.5,\n",
       " 'Horror': 3.8}"
      ]
     },
     "execution_count": 50,
     "metadata": {},
     "output_type": "execute_result"
    }
   ],
   "source": [
    "# first compute and store the dictionary in the variable 'cameron_median_genres', then display it\n",
    "# do NOT plot just yet\n",
    "\n",
    "# first compute and store the dictionary in the variable 'cameron_median_genres', then display it\n",
    "cameron_movies = director_buckets['James Cameron']\n",
    "cameron_genres = bucketize(cameron_movies, 'genres')\n",
    "\n",
    "cameron_median_genres = {genre: median([movie['rating'] for movie in movies]) for genre, movies in cameron_genres.items()}\n",
    "cameron_median_genres"
   ]
  },
  {
   "cell_type": "markdown",
   "id": "7503b5d6",
   "metadata": {
    "deletable": false,
    "editable": false
   },
   "source": [
    "Now, **plot** `cameron_median_genres` as a **bar graph**. Your plot should look like this:"
   ]
  },
  {
   "attachments": {
    "q7.jpg": {
     "image/jpeg": "[encoded data removed]"
    }
   },
   "cell_type": "markdown",
   "id": "bc4ac957",
   "metadata": {},
   "source": [
    "<div style=\"text-align: center;\"><img src=\"attachment:q7.jpg\" style=\"height: 300px;\"/></div>"
   ]
  },
  {
   "cell_type": "code",
   "execution_count": 51,
   "id": "647677f0",
   "metadata": {
    "execution": {
     "iopub.execute_input": "2024-03-19T20:07:59.161512Z",
     "iopub.status.busy": "2024-03-19T20:07:59.161512Z",
     "iopub.status.idle": "2024-03-19T20:07:59.418488Z",
     "shell.execute_reply": "2024-03-19T20:07:59.417480Z"
    },
    "tags": []
   },
   "outputs": [
    {
     "data": {
      "image/png": "[encoded data removed]",
      "text/plain": [
       "<Figure size 600x400 with 1 Axes>"
      ]
     },
     "metadata": {},
     "output_type": "display_data"
    }
   ],
   "source": [
    "# now plot 'cameron_median_genres' with the y-axis labelled 'median rating'\n",
    "plot_dict(cameron_median_genres, 'median rating')"
   ]
  },
  {
   "cell_type": "code",
   "execution_count": 52,
   "id": "44ae1610",
   "metadata": {
    "deletable": false,
    "editable": false
   },
   "outputs": [
    {
     "data": {
      "text/html": [
       "<p><strong><pre style='display: inline;'>q7</pre></strong> passed! 🙌</p><p><strong><pre style='display: inline;'>q7 - 2</pre> message:</strong> Note that the Gradescope autograder will deduct points if your code fails the following rubric point - 'incorrect logic is used to answer (-2)'.The public tests cannot determine if your code satisfies these requirements. Verify your code manually.</p><p><strong><pre style='display: inline;'>q7 - 3</pre> message:</strong> Note that the Gradescope autograder will deduct points if your code fails the following rubric point - 'plot is incorrect (-1)'.The public tests cannot determine if your code satisfies these requirements. Verify your code manually.</p><p><strong><pre style='display: inline;'>q7 - 4</pre> message:</strong> Note that the Gradescope autograder will deduct points if your code fails the following rubric point - 'plot is not properly labeled (-1)'.The public tests cannot determine if your code satisfies these requirements. Verify your code manually.</p>"
      ],
      "text/plain": [
       "q7 results: All test cases passed!\n",
       "q7 - 2 message: Note that the Gradescope autograder will deduct points if your code fails the following rubric point - 'incorrect logic is used to answer (-2)'.The public tests cannot determine if your code satisfies these requirements. Verify your code manually.\n",
       "q7 - 3 message: Note that the Gradescope autograder will deduct points if your code fails the following rubric point - 'plot is incorrect (-1)'.The public tests cannot determine if your code satisfies these requirements. Verify your code manually.\n",
       "q7 - 4 message: Note that the Gradescope autograder will deduct points if your code fails the following rubric point - 'plot is not properly labeled (-1)'.The public tests cannot determine if your code satisfies these requirements. Verify your code manually."
      ]
     },
     "execution_count": 52,
     "metadata": {},
     "output_type": "execute_result"
    }
   ],
   "source": [
    "grader.check(\"q7\")"
   ]
  },
  {
   "cell_type": "markdown",
   "id": "436dcaf0",
   "metadata": {
    "deletable": false,
    "editable": false
   },
   "source": [
    "**Food for thought:** *James Cameron* has directed many critically acclaimed movies such as *Aliens*, *The Terminator*, *Avatar*, and *Titanic*. Nevertheless, median ratings of his work in the *Thriller*, and especially *Horror* genres are surprisingly lackluster. Can you explain this inconsistency?\n",
    "\n",
    "Hint: Take a look at the years of release of the films in these genres. "
   ]
  },
  {
   "cell_type": "code",
   "execution_count": 53,
   "id": "415c7847",
   "metadata": {
    "execution": {
     "iopub.execute_input": "2024-03-19T20:07:59.915904Z",
     "iopub.status.busy": "2024-03-19T20:07:59.915904Z",
     "iopub.status.idle": "2024-03-19T20:07:59.920935Z",
     "shell.execute_reply": "2024-03-19T20:07:59.919899Z"
    }
   },
   "outputs": [],
   "source": [
    "# Food for thought is an entirely OPTIONAL exercise\n",
    "# you may leave your thoughts here as a comment if you wish to\n"
   ]
  },
  {
   "cell_type": "markdown",
   "id": "b9aa8b9b",
   "metadata": {
    "deletable": false,
    "editable": false
   },
   "source": [
    "The visualization in Question 7 immediately tells us that the **median** *Fantasy* movie directed by *James Cameron* is rated higher than the **median** *Horror* movie. However, it is a little hard to tell how the **median** *Romance* movie fares against the **median** *Adventure* movie. In order to compare the `genres`, it would be useful to **sort** the `genres` by their **median** `rating`.\n",
    "\n",
    "Refer [Mike's](???) or [Louis'](???) lecture notes on using function references to sort a collection by value(s) related to that collection's elements."
   ]
  },
  {
   "cell_type": "markdown",
   "id": "b939917b",
   "metadata": {
    "deletable": false,
    "editable": false
   },
   "source": [
    "**Question 8:** Produce a **list** of `genres` of films directed by *James Cameron* sorted in **decreasing order** of their **median** `rating`.\n",
    "\n",
    "**Hint:** Refer to Task 4.2 in [Lab-P9](https://git.doit.wisc.edu/cdis/cs/courses/cs220/cs220-s24-projects/-/tree/main/lab-p9) to understand how to sort a collection using the `key` parameter."
   ]
  },
  {
   "cell_type": "code",
   "execution_count": 54,
   "id": "b6d49c68",
   "metadata": {
    "execution": {
     "iopub.execute_input": "2024-03-19T20:07:59.925934Z",
     "iopub.status.busy": "2024-03-19T20:07:59.924933Z",
     "iopub.status.idle": "2024-03-19T20:07:59.933680Z",
     "shell.execute_reply": "2024-03-19T20:07:59.932650Z"
    },
    "tags": []
   },
   "outputs": [
    {
     "data": {
      "text/plain": [
       "['Sci-Fi',\n",
       " 'Action',\n",
       " 'Romance',\n",
       " 'Adventure',\n",
       " 'Fantasy',\n",
       " 'Drama',\n",
       " 'Mystery',\n",
       " 'Comedy',\n",
       " 'Thriller',\n",
       " 'Horror']"
      ]
     },
     "execution_count": 54,
     "metadata": {},
     "output_type": "execute_result"
    }
   ],
   "source": [
    "# compute and store the answer in the variable 'cameron_genres_desc', then display it\n",
    "cameron_genres_desc = sorted(cameron_median_genres, key=cameron_median_genres.get, reverse=True)\n",
    "cameron_genres_desc"
   ]
  },
  {
   "cell_type": "code",
   "execution_count": 55,
   "id": "6c8d7012",
   "metadata": {
    "deletable": false,
    "editable": false
   },
   "outputs": [
    {
     "data": {
      "text/html": [
       "<p><strong><pre style='display: inline;'>q8</pre></strong> passed! 🎉</p><p><strong><pre style='display: inline;'>q8 - 2</pre> message:</strong> Note that the Gradescope autograder will deduct points if your code fails the following rubric point - 'incorrect logic is used to answer (-2)'.The public tests cannot determine if your code satisfies these requirements. Verify your code manually.</p><p><strong><pre style='display: inline;'>q8 - 3</pre> message:</strong> Note that the Gradescope autograder will deduct points if your code fails the following rubric point - 'recomputed variable defined in Question 7 (-1)'.The public tests cannot determine if your code satisfies these requirements. Verify your code manually.</p>"
      ],
      "text/plain": [
       "q8 results: All test cases passed!\n",
       "q8 - 2 message: Note that the Gradescope autograder will deduct points if your code fails the following rubric point - 'incorrect logic is used to answer (-2)'.The public tests cannot determine if your code satisfies these requirements. Verify your code manually.\n",
       "q8 - 3 message: Note that the Gradescope autograder will deduct points if your code fails the following rubric point - 'recomputed variable defined in Question 7 (-1)'.The public tests cannot determine if your code satisfies these requirements. Verify your code manually."
      ]
     },
     "execution_count": 55,
     "metadata": {},
     "output_type": "execute_result"
    }
   ],
   "source": [
    "grader.check(\"q8\")"
   ]
  },
  {
   "cell_type": "markdown",
   "id": "26a2c264",
   "metadata": {
    "deletable": false,
    "editable": false
   },
   "source": [
    "**Question 9:** Produce a **list** of movies directed by *Martin Scorsese* and starring *Robert De Niro* sorted in **increasing** order of their `year` of release.\n",
    "\n",
    "Your output **must** be a **list** of **dictionaries** of movies having *Martin Scorsese* as one of the `directors`, and *Robert De Niro* as one of the `cast` members, that are **sorted** in **increasing** order of their `year`."
   ]
  },
  {
   "cell_type": "code",
   "execution_count": 56,
   "id": "352bc7cb",
   "metadata": {
    "execution": {
     "iopub.execute_input": "2024-03-19T20:08:00.455999Z",
     "iopub.status.busy": "2024-03-19T20:08:00.455999Z",
     "iopub.status.idle": "2024-03-19T20:08:00.467714Z",
     "shell.execute_reply": "2024-03-19T20:08:00.466703Z"
    },
    "tags": []
   },
   "outputs": [
    {
     "data": {
      "text/plain": [
       "[{'title': 'Mean Streets',\n",
       "  'year': 1973,\n",
       "  'duration': 112,\n",
       "  'genres': ['Crime', 'Drama', 'Thriller'],\n",
       "  'rating': 7.2,\n",
       "  'directors': ['Martin Scorsese'],\n",
       "  'cast': ['Robert De Niro', 'Harvey Keitel', 'David Proval', 'Amy Robinson']},\n",
       " {'title': 'Taxi Driver',\n",
       "  'year': 1976,\n",
       "  'duration': 114,\n",
       "  'genres': ['Crime', 'Drama'],\n",
       "  'rating': 8.2,\n",
       "  'directors': ['Martin Scorsese'],\n",
       "  'cast': ['Robert De Niro',\n",
       "   'Jodie Foster',\n",
       "   'Cybill Shepherd',\n",
       "   'Albert Brooks']},\n",
       " {'title': 'New York, New York',\n",
       "  'year': 1977,\n",
       "  'duration': 155,\n",
       "  'genres': ['Drama', 'Music', 'Musical'],\n",
       "  'rating': 6.6,\n",
       "  'directors': ['Martin Scorsese'],\n",
       "  'cast': ['Liza Minnelli',\n",
       "   'Robert De Niro',\n",
       "   'Lionel Stander',\n",
       "   'Barry Primus']},\n",
       " {'title': 'Raging Bull',\n",
       "  'year': 1980,\n",
       "  'duration': 129,\n",
       "  'genres': ['Biography', 'Drama', 'Sport'],\n",
       "  'rating': 8.1,\n",
       "  'directors': ['Martin Scorsese'],\n",
       "  'cast': ['Robert De Niro', 'Cathy Moriarty', 'Joe Pesci', 'Frank Vincent']},\n",
       " {'title': 'The King of Comedy',\n",
       "  'year': 1982,\n",
       "  'duration': 109,\n",
       "  'genres': ['Comedy', 'Crime', 'Drama'],\n",
       "  'rating': 7.8,\n",
       "  'directors': ['Martin Scorsese'],\n",
       "  'cast': ['Robert De Niro',\n",
       "   'Jerry Lewis',\n",
       "   'Diahnne Abbott',\n",
       "   'Sandra Bernhard']},\n",
       " {'title': 'Goodfellas',\n",
       "  'year': 1990,\n",
       "  'duration': 145,\n",
       "  'genres': ['Biography', 'Crime', 'Drama'],\n",
       "  'rating': 8.7,\n",
       "  'directors': ['Martin Scorsese'],\n",
       "  'cast': ['Robert De Niro', 'Ray Liotta', 'Joe Pesci', 'Lorraine Bracco']},\n",
       " {'title': 'Cape Fear',\n",
       "  'year': 1991,\n",
       "  'duration': 128,\n",
       "  'genres': ['Crime', 'Thriller'],\n",
       "  'rating': 7.3,\n",
       "  'directors': ['Martin Scorsese'],\n",
       "  'cast': ['Robert De Niro', 'Nick Nolte', 'Jessica Lange', 'Juliette Lewis']},\n",
       " {'title': 'Casino',\n",
       "  'year': 1995,\n",
       "  'duration': 178,\n",
       "  'genres': ['Crime', 'Drama'],\n",
       "  'rating': 8.2,\n",
       "  'directors': ['Martin Scorsese'],\n",
       "  'cast': ['Robert De Niro', 'Sharon Stone', 'Joe Pesci', 'James Woods']},\n",
       " {'title': 'The Irishman',\n",
       "  'year': 2019,\n",
       "  'duration': 209,\n",
       "  'genres': ['Biography', 'Crime', 'Drama'],\n",
       "  'rating': 7.8,\n",
       "  'directors': ['Martin Scorsese'],\n",
       "  'cast': ['Robert De Niro', 'Al Pacino', 'Joe Pesci', 'Harvey Keitel']},\n",
       " {'title': 'Killers of the Flower Moon',\n",
       "  'year': 2023,\n",
       "  'duration': 206,\n",
       "  'genres': ['Crime', 'Drama', 'History'],\n",
       "  'rating': 7.7,\n",
       "  'directors': ['Martin Scorsese'],\n",
       "  'cast': ['Leonardo DiCaprio',\n",
       "   'Robert De Niro',\n",
       "   'Lily Gladstone',\n",
       "   'Jesse Plemons']}]"
      ]
     },
     "execution_count": 56,
     "metadata": {},
     "output_type": "execute_result"
    }
   ],
   "source": [
    "# compute and store the answer in the variable 'scorsese_de_niro_movies', then display it\n",
    "# compute and store the answer in the variable 'cameron_genres_desc', then display it\n",
    "# compute and store the answer in the variable 'scorsese_de_niro_movies', then display it\n",
    "scorsese_movies = director_buckets['Martin Scorsese']\n",
    "de_niro_movies = cast_buckets['Robert De Niro']\n",
    "\n",
    "scorsese_de_niro_movies = [movie for movie in scorsese_movies if movie in de_niro_movies]\n",
    "scorsese_de_niro_movies.sort(key=lambda movie: movie['year'])\n",
    "\n",
    "scorsese_de_niro_movies"
   ]
  },
  {
   "cell_type": "code",
   "execution_count": 57,
   "id": "240ccfea",
   "metadata": {
    "deletable": false,
    "editable": false
   },
   "outputs": [
    {
     "data": {
      "text/html": [
       "<p><strong><pre style='display: inline;'>q9</pre></strong> passed! 🚀</p><p><strong><pre style='display: inline;'>q9 - 2</pre> message:</strong> Note that the Gradescope autograder will deduct points if your code fails the following rubric point - 'incorrect logic is used to answer (-2)'.The public tests cannot determine if your code satisfies these requirements. Verify your code manually.</p><p><strong><pre style='display: inline;'>q9 - 3</pre> message:</strong> Note that the Gradescope autograder will deduct points if your code fails the following rubric point - 'does not find only the movies directed by *Martin Scorsese* and starring *Robert De Niro* (-1)'.The public tests cannot determine if your code satisfies these requirements. Verify your code manually.</p>"
      ],
      "text/plain": [
       "q9 results: All test cases passed!\n",
       "q9 - 2 message: Note that the Gradescope autograder will deduct points if your code fails the following rubric point - 'incorrect logic is used to answer (-2)'.The public tests cannot determine if your code satisfies these requirements. Verify your code manually.\n",
       "q9 - 3 message: Note that the Gradescope autograder will deduct points if your code fails the following rubric point - 'does not find only the movies directed by *Martin Scorsese* and starring *Robert De Niro* (-1)'.The public tests cannot determine if your code satisfies these requirements. Verify your code manually."
      ]
     },
     "execution_count": 57,
     "metadata": {},
     "output_type": "execute_result"
    }
   ],
   "source": [
    "grader.check(\"q9\")"
   ]
  },
  {
   "cell_type": "markdown",
   "id": "9ebec6d7",
   "metadata": {
    "deletable": false,
    "editable": false
   },
   "source": [
    "**Food for thought:** Can you think of other famous director-actor combinations? Can you find a combination with more movies than *Scorsese* and *De Niro*?"
   ]
  },
  {
   "cell_type": "code",
   "execution_count": 58,
   "id": "9b8c6227",
   "metadata": {
    "execution": {
     "iopub.execute_input": "2024-03-19T20:08:01.010879Z",
     "iopub.status.busy": "2024-03-19T20:08:01.010879Z",
     "iopub.status.idle": "2024-03-19T20:08:01.015752Z",
     "shell.execute_reply": "2024-03-19T20:08:01.014735Z"
    }
   },
   "outputs": [],
   "source": [
    "# Food for thought is an entirely OPTIONAL exercise\n",
    "# you may leave your thoughts here as a comment if you wish to\n"
   ]
  },
  {
   "cell_type": "markdown",
   "id": "bc2f34c2",
   "metadata": {
    "deletable": false,
    "editable": false
   },
   "source": [
    "### Finding the best `directors`\n",
    "\n",
    "Notice that the movie with the **highest** `rating` in the dataset is\n",
    "\n",
    "```python\n",
    "{'title': 'Ardhambardha Premakathe',\n",
    " 'year': 2023,\n",
    " 'duration': 136,\n",
    " 'genres': ['Comedy', 'Romance'],\n",
    " 'rating': 9.8,\n",
    " 'directors': ['Aravind Kaushik'],\n",
    " 'cast': ['Abhilash M', 'Dwarish Abhilash', 'K.P. Aravind', 'Ashwathi']}\n",
    "```\n",
    "\n",
    "This movie is one of the only two movies directed by this `director`. It is hardly appropriate to use this one movie to hail this director as one of the best ever given the small sample size. Moreover, **seven out of the top ten** highest rated movies in the dataset happen to be from the `year` **2023** or **2024**, while **over half of the top hundred** highest rated movies were released after the `year` *2020*. This is explained by the fact that IMDb `ratings` tend to be **inflated** soon after release, and *settle* down after a while.\n",
    "\n",
    "Therefore, if we want to identify who the **best** directors are, it would be a good idea to ignore the movies that were released **after** the `year` *2020*, and to restrict our attention to `directors` who have directed a **decent number** of movies. "
   ]
  },
  {
   "cell_type": "markdown",
   "id": "a479081f",
   "metadata": {
    "deletable": false,
    "editable": false
   },
   "source": [
    "**Question 10:** Produce a **list** of `directors` who have directed **at least** *10* movies, have a **median** `rating` of **at least** *7.5*, and have a **minimum** `rating` of **at least** *5.0*. You **must** **exclude** all movies released **after** the `year` *2020*.\n",
    "\n",
    "Your output **must** be a **list** of the names of the `directors`. The order does **not** matter.\n",
    "\n",
    "**Hint**: You must first create a **list** of movies **excluding** the movies released **after** the `year` *2020*. Then, among these movies, you must find the `directors` who have directed `>= 10` movies, and whose movies have a **median** `rating` of `>= 7.5`, as well as a **minimum** `rating` of `>= 5.0`."
   ]
  },
  {
   "cell_type": "code",
   "execution_count": 59,
   "id": "68a86136",
   "metadata": {
    "execution": {
     "iopub.execute_input": "2024-03-19T20:08:01.020751Z",
     "iopub.status.busy": "2024-03-19T20:08:01.019749Z",
     "iopub.status.idle": "2024-03-19T20:08:01.188705Z",
     "shell.execute_reply": "2024-03-19T20:08:01.187896Z"
    },
    "tags": []
   },
   "outputs": [
    {
     "data": {
      "text/plain": [
       "['Shyam Benegal',\n",
       " 'Sergiu Nicolaescu',\n",
       " 'Theodoros Angelopoulos',\n",
       " 'Christopher Nolan',\n",
       " 'P. Padmarajan',\n",
       " 'William Wyler',\n",
       " 'Ingmar Bergman',\n",
       " 'Quentin Tarantino',\n",
       " 'Stanley Kubrick',\n",
       " 'Ertem Egilmez',\n",
       " 'Yoshikazu Yasuhiko',\n",
       " 'Yasujirô Ozu',\n",
       " 'Akira Kurosawa',\n",
       " 'Jean-Pierre Melville',\n",
       " 'Martin Scorsese',\n",
       " 'S. Shankar',\n",
       " 'Mani Ratnam',\n",
       " 'S.S. Rajamouli',\n",
       " 'David Fincher',\n",
       " 'Michael Cacoyannis',\n",
       " 'Gulzar',\n",
       " 'Rituparno Ghosh',\n",
       " 'Masaki Kobayashi',\n",
       " 'Singeetam Srinivasa Rao',\n",
       " 'Tim Van Someren',\n",
       " 'Goran Markovic',\n",
       " 'Satyajit Ray',\n",
       " 'Preston Sturges',\n",
       " 'Sibi Malayil',\n",
       " 'Nikita Mikhalkov',\n",
       " 'K. Balachander',\n",
       " 'Hayao Miyazaki',\n",
       " 'Oldrich Lipský',\n",
       " 'Georgiy Daneliya',\n",
       " 'Krzysztof Kieslowski',\n",
       " 'Bahram Beyzaie']"
      ]
     },
     "execution_count": 59,
     "metadata": {},
     "output_type": "execute_result"
    }
   ],
   "source": [
    "# compute and store the answer in the variable 'best_directors', then display it\n",
    "\n",
    "# Exclude movies released after 2020\n",
    "movies_before_2021 = [movie for movie in movies if movie['year'] <= 2020]\n",
    "\n",
    "# Create a dictionary to store director information\n",
    "director_info = {}\n",
    "\n",
    "# Iterate over the movies and update director information\n",
    "for movie in movies_before_2021:\n",
    "    for director in movie['directors']:\n",
    "        if director not in director_info:\n",
    "            director_info[director] = {'movies': [], 'ratings': []}\n",
    "        director_info[director]['movies'].append(movie)\n",
    "        director_info[director]['ratings'].append(movie['rating'])\n",
    "\n",
    "# Find the best directors based on the criteria\n",
    "best_directors = [\n",
    "    director\n",
    "    for director, info in director_info.items()\n",
    "    if len(info['movies']) >= 10 and median(info['ratings']) >= 7.5 and min(info['ratings']) >= 5.0\n",
    "]\n",
    "\n",
    "best_directors"
   ]
  },
  {
   "cell_type": "code",
   "execution_count": 60,
   "id": "9d652e8d",
   "metadata": {
    "deletable": false,
    "editable": false
   },
   "outputs": [
    {
     "data": {
      "text/html": [
       "<p><strong><pre style='display: inline;'>q10</pre></strong> passed! 💯</p><p><strong><pre style='display: inline;'>q10 - 2</pre> message:</strong> Note that the Gradescope autograder will deduct points if your code fails the following rubric point - 'movies released after the `year` *2020* are not excluded (-1)'.The public tests cannot determine if your code satisfies these requirements. Verify your code manually.</p><p><strong><pre style='display: inline;'>q10 - 3</pre> message:</strong> Note that the Gradescope autograder will deduct points if your code fails the following rubric point - 'incorrect comparison operators are used to check if the **number** of movies, **median**, and **minimum** `rating` are as expected (-1)'.The public tests cannot determine if your code satisfies these requirements. Verify your code manually.</p><p><strong><pre style='display: inline;'>q10 - 4</pre> message:</strong> Note that the Gradescope autograder will deduct points if your code fails the following rubric point - 'incorrect logic is used to answer (-1)'.The public tests cannot determine if your code satisfies these requirements. Verify your code manually.</p>"
      ],
      "text/plain": [
       "q10 results: All test cases passed!\n",
       "q10 - 2 message: Note that the Gradescope autograder will deduct points if your code fails the following rubric point - 'movies released after the `year` *2020* are not excluded (-1)'.The public tests cannot determine if your code satisfies these requirements. Verify your code manually.\n",
       "q10 - 3 message: Note that the Gradescope autograder will deduct points if your code fails the following rubric point - 'incorrect comparison operators are used to check if the **number** of movies, **median**, and **minimum** `rating` are as expected (-1)'.The public tests cannot determine if your code satisfies these requirements. Verify your code manually.\n",
       "q10 - 4 message: Note that the Gradescope autograder will deduct points if your code fails the following rubric point - 'incorrect logic is used to answer (-1)'.The public tests cannot determine if your code satisfies these requirements. Verify your code manually."
      ]
     },
     "execution_count": 60,
     "metadata": {},
     "output_type": "execute_result"
    }
   ],
   "source": [
    "grader.check(\"q10\")"
   ]
  },
  {
   "cell_type": "markdown",
   "id": "b445508f",
   "metadata": {
    "deletable": false,
    "editable": false
   },
   "source": [
    "**Food for thought:** How many of these directors can you recognize? Do you spot your favorite director in that list? Can you come up with better criteria for deciding who the best directors are?"
   ]
  },
  {
   "cell_type": "code",
   "execution_count": 61,
   "id": "9236b2b3",
   "metadata": {
    "execution": {
     "iopub.execute_input": "2024-03-19T20:08:01.882452Z",
     "iopub.status.busy": "2024-03-19T20:08:01.882452Z",
     "iopub.status.idle": "2024-03-19T20:08:01.887355Z",
     "shell.execute_reply": "2024-03-19T20:08:01.886338Z"
    }
   },
   "outputs": [],
   "source": [
    "# Food for thought is an entirely OPTIONAL exercise\n",
    "# you may leave your thoughts here as a comment if you wish to\n"
   ]
  },
  {
   "cell_type": "code",
   "execution_count": 62,
   "id": "1c2e9445",
   "metadata": {
    "deletable": false,
    "editable": false
   },
   "outputs": [
    {
     "data": {
      "text/html": [
       "<p><strong><pre style='display: inline;'>general_deductions</pre></strong> passed! 💯</p><p><strong><pre style='display: inline;'>general_deductions - 1</pre> message:</strong> Note that the Gradescope autograder will deduct points if your code fails the following rubric point - 'Outputs not visible/did not save the notebook file prior to running the cell containing \"export\". We cannot see your output if you do not save before generating the zip file. (-3)'.The public tests cannot determine if your code satisfies these requirements. Verify your code manually.</p><p><strong><pre style='display: inline;'>general_deductions - 2</pre> message:</strong> Note that the Gradescope autograder will deduct points if your code fails the following rubric point - 'Used concepts/modules such as `csv.DictReader` and `pandas` not covered in class yet. Note that built-in functions that you have been introduced to can be used. (-3)'.The public tests cannot determine if your code satisfies these requirements. Verify your code manually.</p><p><strong><pre style='display: inline;'>general_deductions - 3</pre> message:</strong> Note that the Gradescope autograder will deduct points if your code fails the following rubric point - 'Large outputs such as `movies` are displayed in the notebook. (-3)'.The public tests cannot determine if your code satisfies these requirements. Verify your code manually.</p><p><strong><pre style='display: inline;'>general_deductions - 4</pre> message:</strong> Note that the Gradescope autograder will deduct points if your code fails the following rubric point - 'Import statements are not mentioned in the required cell at the top of the notebook. (-1)'.The public tests cannot determine if your code satisfies these requirements. Verify your code manually.</p>"
      ],
      "text/plain": [
       "general_deductions results: All test cases passed!\n",
       "general_deductions - 1 message: Note that the Gradescope autograder will deduct points if your code fails the following rubric point - 'Outputs not visible/did not save the notebook file prior to running the cell containing \"export\". We cannot see your output if you do not save before generating the zip file. (-3)'.The public tests cannot determine if your code satisfies these requirements. Verify your code manually.\n",
       "general_deductions - 2 message: Note that the Gradescope autograder will deduct points if your code fails the following rubric point - 'Used concepts/modules such as `csv.DictReader` and `pandas` not covered in class yet. Note that built-in functions that you have been introduced to can be used. (-3)'.The public tests cannot determine if your code satisfies these requirements. Verify your code manually.\n",
       "general_deductions - 3 message: Note that the Gradescope autograder will deduct points if your code fails the following rubric point - 'Large outputs such as `movies` are displayed in the notebook. (-3)'.The public tests cannot determine if your code satisfies these requirements. Verify your code manually.\n",
       "general_deductions - 4 message: Note that the Gradescope autograder will deduct points if your code fails the following rubric point - 'Import statements are not mentioned in the required cell at the top of the notebook. (-1)'.The public tests cannot determine if your code satisfies these requirements. Verify your code manually."
      ]
     },
     "execution_count": 62,
     "metadata": {},
     "output_type": "execute_result"
    }
   ],
   "source": [
    "grader.check(\"general_deductions\")"
   ]
  },
  {
   "cell_type": "code",
   "execution_count": 63,
   "id": "474e24ae",
   "metadata": {
    "deletable": false,
    "editable": false
   },
   "outputs": [
    {
     "data": {
      "text/html": [
       "<p><strong><pre style='display: inline;'>summary</pre></strong> passed! 💯</p><p><strong><pre style='display: inline;'>summary - 1</pre> message:</strong> Please submit your zip folder to Gradescope, and check your final score there. The Gradescope autograder will make deductions to your score based on the rubric.</p>"
      ],
      "text/plain": [
       "summary results: All test cases passed!\n",
       "summary - 1 message: Please submit your zip folder to Gradescope, and check your final score there. The Gradescope autograder will make deductions to your score based on the rubric."
      ]
     },
     "execution_count": 63,
     "metadata": {},
     "output_type": "execute_result"
    }
   ],
   "source": [
    "grader.check(\"summary\")"
   ]
  },
  {
   "cell_type": "markdown",
   "id": "fa6688e1",
   "metadata": {
    "deletable": false,
    "editable": false
   },
   "source": [
    "## Submission\n",
    "It is recommended that at this stage, you Restart and Run all Cells in your notebook.\n",
    "That will automatically save your work and generate a zip file for you to submit.\n",
    "\n",
    "**SUBMISSION INSTRUCTIONS**:\n",
    "1. **Upload** the zipfile to Gradescope.\n",
    "2. If you completed the project with a **partner**, make sure to **add their name** by clicking \"Add Group Member\"\n",
    "in Gradescope when uploading the zip file.\n",
    "3. Check **Gradescope** results as soon as the auto-grader execution gets completed.\n",
    "4. Your **final score** for this project is the score that you see on **Gradescope**.\n",
    "5. You are **allowed** to resubmit on Gradescope as many times as you want to.\n",
    "6. **Contact** a TA/PM if you lose any points on Gradescope for any **unclear reasons**."
   ]
  },
  {
   "cell_type": "code",
   "execution_count": 64,
   "id": "0a69f59c",
   "metadata": {
    "cell_type": "code",
    "deletable": false,
    "editable": false
   },
   "outputs": [
    {
     "data": {
      "application/javascript": [
       "IPython.notebook.save_checkpoint();"
      ],
      "text/plain": [
       "<IPython.core.display.Javascript object>"
      ]
     },
     "metadata": {},
     "output_type": "display_data"
    }
   ],
   "source": [
    "# running this cell will create a new save checkpoint for your notebook\n",
    "from IPython.display import display, Javascript\n",
    "display(Javascript('IPython.notebook.save_checkpoint();'))"
   ]
  },
  {
   "cell_type": "code",
   "execution_count": 65,
   "id": "db59daae",
   "metadata": {
    "cell_type": "code",
    "deletable": false,
    "editable": false
   },
   "outputs": [
    {
     "name": "stdout",
     "output_type": "stream",
     "text": [
      "[jupytext] Reading p9.ipynb in format ipynb\n",
      "[jupytext] Writing p9.py\n"
     ]
    }
   ],
   "source": [
    "!jupytext --to py p9.ipynb"
   ]
  },
  {
   "cell_type": "code",
   "execution_count": 66,
   "id": "1a29fc39",
   "metadata": {
    "deletable": false,
    "editable": false
   },
   "outputs": [
    {
     "data": {
      "text/html": [
       "\n",
       "                    <p>\n",
       "                        Your submission has been exported. Click\n",
       "                        <a href=\"p9_2024_04_03T22_53_31_288659.zip\" download=\"p9_2024_04_03T22_53_31_288659.zip\" target=\"_blank\">here</a> to download\n",
       "                        the zip file.\n",
       "                    </p>\n",
       "                "
      ],
      "text/plain": [
       "<IPython.core.display.HTML object>"
      ]
     },
     "metadata": {},
     "output_type": "display_data"
    }
   ],
   "source": [
    "grader.export(pdf=False, run_tests=False, files=[\"p9.py\"])"
   ]
  },
  {
   "cell_type": "markdown",
   "id": "6fbe56f4",
   "metadata": {
    "deletable": false,
    "editable": false
   },
   "source": [
    " "
   ]
  }
 ],
 "metadata": {
  "kernelspec": {
   "display_name": "Python 3 (ipykernel)",
   "language": "python",
   "name": "python3"
  },
  "language_info": {
   "codemirror_mode": {
    "name": "ipython",
    "version": 3
   },
   "file_extension": ".py",
   "mimetype": "text/x-python",
   "name": "python",
   "nbconvert_exporter": "python",
   "pygments_lexer": "ipython3",
   "version": "3.11.5"
  },
  "otter": {
   "OK_FORMAT": true,
   "tests": {
    "bucketize": {
     "name": "bucketize",
     "points": 0,
     "suites": [
      {
       "cases": [
        {
         "code": ">>> \n>>> public_tests.rubric_check('bucketize: input or output of the function is of wrong type')\nAll test cases passed!\n",
         "hidden": false,
         "locked": false,
         "success_message": "Note that the Gradescope autograder will deduct points if your code fails the following rubric point - 'input or output of the function is of wrong type (-0)'.The public tests cannot determine if your code satisfies these requirements. Verify your code manually."
        },
        {
         "code": ">>> \n>>> public_tests.rubric_check('bucketize: function logic is incorrect when `category` data is stored in `movies` as a `str` or `int`')\nAll test cases passed!\n",
         "hidden": false,
         "locked": false,
         "success_message": "Note that the Gradescope autograder will deduct points if your code fails the following rubric point - 'function logic is incorrect when `category` data is stored in `movies` as a `str` or `int` (-2)'.The public tests cannot determine if your code satisfies these requirements. Verify your code manually."
        },
        {
         "code": ">>> \n>>> public_tests.rubric_check('bucketize: function logic is incorrect when `category` data is stored in `movies` as a `list`')\nAll test cases passed!\n",
         "hidden": false,
         "locked": false,
         "success_message": "Note that the Gradescope autograder will deduct points if your code fails the following rubric point - 'function logic is incorrect when `category` data is stored in `movies` as a `list` (-1)'.The public tests cannot determine if your code satisfies these requirements. Verify your code manually."
        },
        {
         "code": ">>> \n>>> public_tests.rubric_check('bucketize: categories are hardcoded while checking if their data is stored as a `list` or not')\nAll test cases passed!\n",
         "hidden": false,
         "locked": false,
         "success_message": "Note that the Gradescope autograder will deduct points if your code fails the following rubric point - 'categories are hardcoded while checking if their data is stored as a `list` or not (-1)'.The public tests cannot determine if your code satisfies these requirements. Verify your code manually."
        },
        {
         "code": ">>> \n>>> public_tests.rubric_check('bucketize: function is defined more than once')\nAll test cases passed!\n",
         "hidden": false,
         "locked": false,
         "success_message": "Note that the Gradescope autograder will deduct points if your code fails the following rubric point - 'function is defined more than once (-1)'.The public tests cannot determine if your code satisfies these requirements. Verify your code manually."
        }
       ],
       "scored": true,
       "setup": "",
       "teardown": "",
       "type": "doctest"
      }
     ]
    },
    "cast_buckets": {
     "name": "cast_buckets",
     "points": 0,
     "suites": [
      {
       "cases": [
        {
         "code": ">>> \n>>> public_tests.rubric_check('cast_buckets: `bucketize` function is not used')\nAll test cases passed!\n",
         "hidden": false,
         "locked": false,
         "success_message": "Note that the Gradescope autograder will deduct points if your code fails the following rubric point - '`bucketize` function is not used (-1)'.The public tests cannot determine if your code satisfies these requirements. Verify your code manually."
        },
        {
         "code": ">>> \n>>> public_tests.rubric_check('cast_buckets: data structure is defined incorrectly')\nAll test cases passed!\n",
         "hidden": false,
         "locked": false,
         "success_message": "Note that the Gradescope autograder will deduct points if your code fails the following rubric point - 'data structure is defined incorrectly (-1)'.The public tests cannot determine if your code satisfies these requirements. Verify your code manually."
        }
       ],
       "scored": true,
       "setup": "",
       "teardown": "",
       "type": "doctest"
      }
     ]
    },
    "director_buckets": {
     "name": "director_buckets",
     "points": 0,
     "suites": [
      {
       "cases": [
        {
         "code": ">>> \n>>> public_tests.rubric_check('director_buckets: `bucketize` function is not used')\nAll test cases passed!\n",
         "hidden": false,
         "locked": false,
         "success_message": "Note that the Gradescope autograder will deduct points if your code fails the following rubric point - '`bucketize` function is not used (-1)'.The public tests cannot determine if your code satisfies these requirements. Verify your code manually."
        },
        {
         "code": ">>> \n>>> public_tests.rubric_check('director_buckets: data structure is defined incorrectly')\nAll test cases passed!\n",
         "hidden": false,
         "locked": false,
         "success_message": "Note that the Gradescope autograder will deduct points if your code fails the following rubric point - 'data structure is defined incorrectly (-1)'.The public tests cannot determine if your code satisfies these requirements. Verify your code manually."
        }
       ],
       "scored": true,
       "setup": "",
       "teardown": "",
       "type": "doctest"
      }
     ]
    },
    "find_specific_movies": {
     "name": "find_specific_movies",
     "points": 0,
     "suites": [
      {
       "cases": [
        {
         "code": ">>> print('All test cases passed!')\nAll test cases passed!\n",
         "hidden": false,
         "locked": false
        }
       ],
       "scored": true,
       "setup": "",
       "teardown": "",
       "type": "doctest"
      }
     ]
    },
    "general_deductions": {
     "name": "general_deductions",
     "points": 0,
     "suites": [
      {
       "cases": [
        {
         "code": ">>> \n>>> public_tests.rubric_check('general_deductions: Outputs not visible/did not save the notebook file prior to running the cell containing \"export\". We cannot see your output if you do not save before generating the zip file.')\nAll test cases passed!\n",
         "hidden": false,
         "locked": false,
         "success_message": "Note that the Gradescope autograder will deduct points if your code fails the following rubric point - 'Outputs not visible/did not save the notebook file prior to running the cell containing \"export\". We cannot see your output if you do not save before generating the zip file. (-3)'.The public tests cannot determine if your code satisfies these requirements. Verify your code manually."
        },
        {
         "code": ">>> \n>>> public_tests.rubric_check('general_deductions: Used concepts/modules such as `csv.DictReader` and `pandas` not covered in class yet. Note that built-in functions that you have been introduced to can be used.')\nAll test cases passed!\n",
         "hidden": false,
         "locked": false,
         "success_message": "Note that the Gradescope autograder will deduct points if your code fails the following rubric point - 'Used concepts/modules such as `csv.DictReader` and `pandas` not covered in class yet. Note that built-in functions that you have been introduced to can be used. (-3)'.The public tests cannot determine if your code satisfies these requirements. Verify your code manually."
        },
        {
         "code": ">>> \n>>> public_tests.rubric_check('general_deductions: Large outputs such as `movies` are displayed in the notebook.')\nAll test cases passed!\n",
         "hidden": false,
         "locked": false,
         "success_message": "Note that the Gradescope autograder will deduct points if your code fails the following rubric point - 'Large outputs such as `movies` are displayed in the notebook. (-3)'.The public tests cannot determine if your code satisfies these requirements. Verify your code manually."
        },
        {
         "code": ">>> \n>>> public_tests.rubric_check('general_deductions: Import statements are not mentioned in the required cell at the top of the notebook.')\nAll test cases passed!\n",
         "hidden": false,
         "locked": false,
         "success_message": "Note that the Gradescope autograder will deduct points if your code fails the following rubric point - 'Import statements are not mentioned in the required cell at the top of the notebook. (-1)'.The public tests cannot determine if your code satisfies these requirements. Verify your code manually."
        }
       ],
       "scored": true,
       "setup": "",
       "teardown": "",
       "type": "doctest"
      }
     ]
    },
    "genre_buckets": {
     "name": "genre_buckets",
     "points": 0,
     "suites": [
      {
       "cases": [
        {
         "code": ">>> \n>>> public_tests.rubric_check('genre_buckets: `bucketize` function is not used')\nAll test cases passed!\n",
         "hidden": false,
         "locked": false,
         "success_message": "Note that the Gradescope autograder will deduct points if your code fails the following rubric point - '`bucketize` function is not used (-1)'.The public tests cannot determine if your code satisfies these requirements. Verify your code manually."
        },
        {
         "code": ">>> \n>>> public_tests.rubric_check('genre_buckets: data structure is defined incorrectly')\nAll test cases passed!\n",
         "hidden": false,
         "locked": false,
         "success_message": "Note that the Gradescope autograder will deduct points if your code fails the following rubric point - 'data structure is defined incorrectly (-1)'.The public tests cannot determine if your code satisfies these requirements. Verify your code manually."
        }
       ],
       "scored": true,
       "setup": "",
       "teardown": "",
       "type": "doctest"
      }
     ]
    },
    "get_mapping": {
     "name": "get_mapping",
     "points": 0,
     "suites": [
      {
       "cases": [
        {
         "code": ">>> print('All test cases passed!')\nAll test cases passed!\n",
         "hidden": false,
         "locked": false
        }
       ],
       "scored": true,
       "setup": "",
       "teardown": "",
       "type": "doctest"
      }
     ]
    },
    "get_movies": {
     "name": "get_movies",
     "points": 0,
     "suites": [
      {
       "cases": [
        {
         "code": ">>> print('All test cases passed!')\nAll test cases passed!\n",
         "hidden": false,
         "locked": false
        }
       ],
       "scored": true,
       "setup": "",
       "teardown": "",
       "type": "doctest"
      }
     ]
    },
    "get_raw_movies": {
     "name": "get_raw_movies",
     "points": 0,
     "suites": [
      {
       "cases": [
        {
         "code": ">>> print('All test cases passed!')\nAll test cases passed!\n",
         "hidden": false,
         "locked": false
        }
       ],
       "scored": true,
       "setup": "",
       "teardown": "",
       "type": "doctest"
      }
     ]
    },
    "median": {
     "name": "median",
     "points": 0,
     "suites": [
      {
       "cases": [
        {
         "code": ">>> print('All test cases passed!')\nAll test cases passed!\n",
         "hidden": false,
         "locked": false
        }
       ],
       "scored": true,
       "setup": "",
       "teardown": "",
       "type": "doctest"
      }
     ]
    },
    "movies": {
     "name": "movies",
     "points": 0,
     "suites": [
      {
       "cases": [
        {
         "code": ">>> print('All test cases passed!')\nAll test cases passed!\n",
         "hidden": false,
         "locked": false
        }
       ],
       "scored": true,
       "setup": "",
       "teardown": "",
       "type": "doctest"
      }
     ]
    },
    "plot_dict": {
     "name": "plot_dict",
     "points": 0,
     "suites": [
      {
       "cases": [
        {
         "code": ">>> print('All test cases passed!')\nAll test cases passed!\n",
         "hidden": false,
         "locked": false
        }
       ],
       "scored": true,
       "setup": "",
       "teardown": "",
       "type": "doctest"
      }
     ]
    },
    "q1": {
     "name": "q1",
     "points": 0,
     "suites": [
      {
       "cases": [
        {
         "code": ">>> public_tests.check('q1', median_eastwood_leone_rating)\nAll test cases passed!\n",
         "hidden": false,
         "locked": false
        },
        {
         "code": ">>> \n>>> public_tests.rubric_check('q1: `find_specific_movies` function is not used')\nAll test cases passed!\n",
         "hidden": false,
         "locked": false,
         "success_message": "Note that the Gradescope autograder will deduct points if your code fails the following rubric point - '`find_specific_movies` function is not used (-1)'.The public tests cannot determine if your code satisfies these requirements. Verify your code manually."
        },
        {
         "code": ">>> \n>>> public_tests.rubric_check('q1: median calculation is incorrect')\nAll test cases passed!\n",
         "hidden": false,
         "locked": false,
         "success_message": "Note that the Gradescope autograder will deduct points if your code fails the following rubric point - 'median calculation is incorrect (-1)'.The public tests cannot determine if your code satisfies these requirements. Verify your code manually."
        },
        {
         "code": ">>> \n>>> public_tests.rubric_check('q1: answer uses loops to iterate over dictionary keys')\nAll test cases passed!\n",
         "hidden": false,
         "locked": false,
         "success_message": "Note that the Gradescope autograder will deduct points if your code fails the following rubric point - 'answer uses loops to iterate over dictionary keys (-1)'.The public tests cannot determine if your code satisfies these requirements. Verify your code manually."
        }
       ],
       "scored": true,
       "setup": "",
       "teardown": "",
       "type": "doctest"
      }
     ]
    },
    "q10": {
     "name": "q10",
     "points": 0,
     "suites": [
      {
       "cases": [
        {
         "code": ">>> public_tests.check('q10', best_directors)\nAll test cases passed!\n",
         "hidden": false,
         "locked": false
        },
        {
         "code": ">>> \n>>> public_tests.rubric_check('q10: movies released after the `year` *2020* are not excluded')\nAll test cases passed!\n",
         "hidden": false,
         "locked": false,
         "success_message": "Note that the Gradescope autograder will deduct points if your code fails the following rubric point - 'movies released after the `year` *2020* are not excluded (-1)'.The public tests cannot determine if your code satisfies these requirements. Verify your code manually."
        },
        {
         "code": ">>> \n>>> public_tests.rubric_check('q10: incorrect comparison operators are used to check if the **number** of movies, **median**, and **minimum** `rating` are as expected')\nAll test cases passed!\n",
         "hidden": false,
         "locked": false,
         "success_message": "Note that the Gradescope autograder will deduct points if your code fails the following rubric point - 'incorrect comparison operators are used to check if the **number** of movies, **median**, and **minimum** `rating` are as expected (-1)'.The public tests cannot determine if your code satisfies these requirements. Verify your code manually."
        },
        {
         "code": ">>> \n>>> public_tests.rubric_check('q10: incorrect logic is used to answer')\nAll test cases passed!\n",
         "hidden": false,
         "locked": false,
         "success_message": "Note that the Gradescope autograder will deduct points if your code fails the following rubric point - 'incorrect logic is used to answer (-1)'.The public tests cannot determine if your code satisfies these requirements. Verify your code manually."
        },
        {
         "code": ">>> public_tests.rubric_check('q10: public tests')\nAll test cases passed!\n",
         "hidden": false,
         "locked": false
        }
       ],
       "scored": true,
       "setup": "",
       "teardown": "",
       "type": "doctest"
      }
     ]
    },
    "q2": {
     "name": "q2",
     "points": 0,
     "suites": [
      {
       "cases": [
        {
         "code": ">>> public_tests.check('q2', highest_rated_toy_story_movies)\nAll test cases passed!\n",
         "hidden": false,
         "locked": false
        },
        {
         "code": ">>> \n>>> public_tests.rubric_check('q2: `find_specific_movies` function is not used')\nAll test cases passed!\n",
         "hidden": false,
         "locked": false,
         "success_message": "Note that the Gradescope autograder will deduct points if your code fails the following rubric point - '`find_specific_movies` function is not used (-1)'.The public tests cannot determine if your code satisfies these requirements. Verify your code manually."
        },
        {
         "code": ">>> \n>>> public_tests.rubric_check('q2: rating of highest rated *Toy Story* movie is hardcoded')\nAll test cases passed!\n",
         "hidden": false,
         "locked": false,
         "success_message": "Note that the Gradescope autograder will deduct points if your code fails the following rubric point - 'rating of highest rated *Toy Story* movie is hardcoded (-1)'.The public tests cannot determine if your code satisfies these requirements. Verify your code manually."
        },
        {
         "code": ">>> \n>>> public_tests.rubric_check('q2: did not find all the movies with the highest rating')\nAll test cases passed!\n",
         "hidden": false,
         "locked": false,
         "success_message": "Note that the Gradescope autograder will deduct points if your code fails the following rubric point - 'did not find all the movies with the highest rating (-1)'.The public tests cannot determine if your code satisfies these requirements. Verify your code manually."
        },
        {
         "code": ">>> \n>>> public_tests.rubric_check('q2: answer uses loops to iterate over dictionary keys')\nAll test cases passed!\n",
         "hidden": false,
         "locked": false,
         "success_message": "Note that the Gradescope autograder will deduct points if your code fails the following rubric point - 'answer uses loops to iterate over dictionary keys (-1)'.The public tests cannot determine if your code satisfies these requirements. Verify your code manually."
        }
       ],
       "scored": true,
       "setup": "",
       "teardown": "",
       "type": "doctest"
      }
     ]
    },
    "q3": {
     "name": "q3",
     "points": 0,
     "suites": [
      {
       "cases": [
        {
         "code": ">>> public_tests.check('q3', robbie_movies)\nAll test cases passed!\n",
         "hidden": false,
         "locked": false
        },
        {
         "code": ">>> \n>>> public_tests.rubric_check('q3: `cast_buckets` data structure is not used')\nAll test cases passed!\n",
         "hidden": false,
         "locked": false,
         "success_message": "Note that the Gradescope autograder will deduct points if your code fails the following rubric point - '`cast_buckets` data structure is not used (-2)'.The public tests cannot determine if your code satisfies these requirements. Verify your code manually."
        }
       ],
       "scored": true,
       "setup": "",
       "teardown": "",
       "type": "doctest"
      }
     ]
    },
    "q4": {
     "name": "q4",
     "points": 0,
     "suites": [
      {
       "cases": [
        {
         "code": ">>> public_tests.check('q4', genre_num)\nAll test cases passed!\n",
         "hidden": false,
         "locked": false
        },
        {
         "code": ">>> \n>>> public_tests.rubric_check('q4: incorrect logic is used to answer')\nAll test cases passed!\n",
         "hidden": false,
         "locked": false,
         "success_message": "Note that the Gradescope autograder will deduct points if your code fails the following rubric point - 'incorrect logic is used to answer (-2)'.The public tests cannot determine if your code satisfies these requirements. Verify your code manually."
        },
        {
         "code": ">>> \n>>> public_tests.rubric_check('q4: plot is incorrect')\nAll test cases passed!\n",
         "hidden": false,
         "locked": false,
         "success_message": "Note that the Gradescope autograder will deduct points if your code fails the following rubric point - 'plot is incorrect (-1)'.The public tests cannot determine if your code satisfies these requirements. Verify your code manually."
        },
        {
         "code": ">>> \n>>> public_tests.rubric_check('q4: plot is not properly labeled')\nAll test cases passed!\n",
         "hidden": false,
         "locked": false,
         "success_message": "Note that the Gradescope autograder will deduct points if your code fails the following rubric point - 'plot is not properly labeled (-1)'.The public tests cannot determine if your code satisfies these requirements. Verify your code manually."
        }
       ],
       "scored": true,
       "setup": "",
       "teardown": "",
       "type": "doctest"
      }
     ]
    },
    "q5": {
     "name": "q5",
     "points": 0,
     "suites": [
      {
       "cases": [
        {
         "code": ">>> public_tests.check('q5', kubrick_genres)\nAll test cases passed!\n",
         "hidden": false,
         "locked": false
        },
        {
         "code": ">>> \n>>> public_tests.rubric_check('q5: incorrect logic is used to answer')\nAll test cases passed!\n",
         "hidden": false,
         "locked": false,
         "success_message": "Note that the Gradescope autograder will deduct points if your code fails the following rubric point - 'incorrect logic is used to answer (-2)'.The public tests cannot determine if your code satisfies these requirements. Verify your code manually."
        },
        {
         "code": ">>> \n>>> public_tests.rubric_check('q5: plot is incorrect')\nAll test cases passed!\n",
         "hidden": false,
         "locked": false,
         "success_message": "Note that the Gradescope autograder will deduct points if your code fails the following rubric point - 'plot is incorrect (-1)'.The public tests cannot determine if your code satisfies these requirements. Verify your code manually."
        },
        {
         "code": ">>> \n>>> public_tests.rubric_check('q5: plot is not properly labeled')\nAll test cases passed!\n",
         "hidden": false,
         "locked": false,
         "success_message": "Note that the Gradescope autograder will deduct points if your code fails the following rubric point - 'plot is not properly labeled (-1)'.The public tests cannot determine if your code satisfies these requirements. Verify your code manually."
        }
       ],
       "scored": true,
       "setup": "",
       "teardown": "",
       "type": "doctest"
      }
     ]
    },
    "q6": {
     "name": "q6",
     "points": 0,
     "suites": [
      {
       "cases": [
        {
         "code": ">>> public_tests.check('q6', sci_fi_decade_mapping)\nAll test cases passed!\n",
         "hidden": false,
         "locked": false
        },
        {
         "code": ">>> \n>>> public_tests.rubric_check('q6: incorrect logic is used to answer')\nAll test cases passed!\n",
         "hidden": false,
         "locked": false,
         "success_message": "Note that the Gradescope autograder will deduct points if your code fails the following rubric point - 'incorrect logic is used to answer (-2)'.The public tests cannot determine if your code satisfies these requirements. Verify your code manually."
        },
        {
         "code": ">>> \n>>> public_tests.rubric_check('q6: plot is incorrect')\nAll test cases passed!\n",
         "hidden": false,
         "locked": false,
         "success_message": "Note that the Gradescope autograder will deduct points if your code fails the following rubric point - 'plot is incorrect (-1)'.The public tests cannot determine if your code satisfies these requirements. Verify your code manually."
        },
        {
         "code": ">>> \n>>> public_tests.rubric_check('q6: plot is not properly labeled')\nAll test cases passed!\n",
         "hidden": false,
         "locked": false,
         "success_message": "Note that the Gradescope autograder will deduct points if your code fails the following rubric point - 'plot is not properly labeled (-1)'.The public tests cannot determine if your code satisfies these requirements. Verify your code manually."
        }
       ],
       "scored": true,
       "setup": "",
       "teardown": "",
       "type": "doctest"
      }
     ]
    },
    "q7": {
     "name": "q7",
     "points": 0,
     "suites": [
      {
       "cases": [
        {
         "code": ">>> public_tests.check('q7', cameron_median_genres)\nAll test cases passed!\n",
         "hidden": false,
         "locked": false
        },
        {
         "code": ">>> \n>>> public_tests.rubric_check('q7: incorrect logic is used to answer')\nAll test cases passed!\n",
         "hidden": false,
         "locked": false,
         "success_message": "Note that the Gradescope autograder will deduct points if your code fails the following rubric point - 'incorrect logic is used to answer (-2)'.The public tests cannot determine if your code satisfies these requirements. Verify your code manually."
        },
        {
         "code": ">>> \n>>> public_tests.rubric_check('q7: plot is incorrect')\nAll test cases passed!\n",
         "hidden": false,
         "locked": false,
         "success_message": "Note that the Gradescope autograder will deduct points if your code fails the following rubric point - 'plot is incorrect (-1)'.The public tests cannot determine if your code satisfies these requirements. Verify your code manually."
        },
        {
         "code": ">>> \n>>> public_tests.rubric_check('q7: plot is not properly labeled')\nAll test cases passed!\n",
         "hidden": false,
         "locked": false,
         "success_message": "Note that the Gradescope autograder will deduct points if your code fails the following rubric point - 'plot is not properly labeled (-1)'.The public tests cannot determine if your code satisfies these requirements. Verify your code manually."
        }
       ],
       "scored": true,
       "setup": "",
       "teardown": "",
       "type": "doctest"
      }
     ]
    },
    "q8": {
     "name": "q8",
     "points": 0,
     "suites": [
      {
       "cases": [
        {
         "code": ">>> public_tests.check('q8', cameron_genres_desc)\nAll test cases passed!\n",
         "hidden": false,
         "locked": false
        },
        {
         "code": ">>> \n>>> public_tests.rubric_check('q8: incorrect logic is used to answer')\nAll test cases passed!\n",
         "hidden": false,
         "locked": false,
         "success_message": "Note that the Gradescope autograder will deduct points if your code fails the following rubric point - 'incorrect logic is used to answer (-2)'.The public tests cannot determine if your code satisfies these requirements. Verify your code manually."
        },
        {
         "code": ">>> \n>>> public_tests.rubric_check('q8: recomputed variable defined in Question 7')\nAll test cases passed!\n",
         "hidden": false,
         "locked": false,
         "success_message": "Note that the Gradescope autograder will deduct points if your code fails the following rubric point - 'recomputed variable defined in Question 7 (-1)'.The public tests cannot determine if your code satisfies these requirements. Verify your code manually."
        },
        {
         "code": ">>> public_tests.rubric_check('q8: public tests')\nAll test cases passed!\n",
         "hidden": false,
         "locked": false
        }
       ],
       "scored": true,
       "setup": "",
       "teardown": "",
       "type": "doctest"
      }
     ]
    },
    "q9": {
     "name": "q9",
     "points": 0,
     "suites": [
      {
       "cases": [
        {
         "code": ">>> public_tests.check('q9', scorsese_de_niro_movies)\nAll test cases passed!\n",
         "hidden": false,
         "locked": false
        },
        {
         "code": ">>> \n>>> public_tests.rubric_check('q9: incorrect logic is used to answer')\nAll test cases passed!\n",
         "hidden": false,
         "locked": false,
         "success_message": "Note that the Gradescope autograder will deduct points if your code fails the following rubric point - 'incorrect logic is used to answer (-2)'.The public tests cannot determine if your code satisfies these requirements. Verify your code manually."
        },
        {
         "code": ">>> \n>>> public_tests.rubric_check('q9: does not find only the movies directed by *Martin Scorsese* and starring *Robert De Niro*')\nAll test cases passed!\n",
         "hidden": false,
         "locked": false,
         "success_message": "Note that the Gradescope autograder will deduct points if your code fails the following rubric point - 'does not find only the movies directed by *Martin Scorsese* and starring *Robert De Niro* (-1)'.The public tests cannot determine if your code satisfies these requirements. Verify your code manually."
        },
        {
         "code": ">>> public_tests.rubric_check('q9: public tests')\nAll test cases passed!\n",
         "hidden": false,
         "locked": false
        }
       ],
       "scored": true,
       "setup": "",
       "teardown": "",
       "type": "doctest"
      }
     ]
    },
    "summary": {
     "name": "summary",
     "points": 127,
     "suites": [
      {
       "cases": [
        {
         "code": ">>> \n>>> public_tests.get_summary()\nTotal Score: 50/50\n",
         "hidden": false,
         "locked": false,
         "success_message": "Please submit your zip folder to Gradescope, and check your final score there. The Gradescope autograder will make deductions to your score based on the rubric."
        }
       ],
       "scored": true,
       "setup": "",
       "teardown": "",
       "type": "doctest"
      }
     ]
    },
    "year_buckets": {
     "name": "year_buckets",
     "points": 0,
     "suites": [
      {
       "cases": [
        {
         "code": ">>> \n>>> public_tests.rubric_check('year_buckets: `bucketize` function is not used')\nAll test cases passed!\n",
         "hidden": false,
         "locked": false,
         "success_message": "Note that the Gradescope autograder will deduct points if your code fails the following rubric point - '`bucketize` function is not used (-1)'.The public tests cannot determine if your code satisfies these requirements. Verify your code manually."
        },
        {
         "code": ">>> \n>>> public_tests.rubric_check('year_buckets: data structure is defined incorrectly')\nAll test cases passed!\n",
         "hidden": false,
         "locked": false,
         "success_message": "Note that the Gradescope autograder will deduct points if your code fails the following rubric point - 'data structure is defined incorrectly (-1)'.The public tests cannot determine if your code satisfies these requirements. Verify your code manually."
        }
       ],
       "scored": true,
       "setup": "",
       "teardown": "",
       "type": "doctest"
      }
     ]
    },
    "year_to_decade": {
     "name": "year_to_decade",
     "points": 0,
     "suites": [
      {
       "cases": [
        {
         "code": ">>> print('All test cases passed!')\nAll test cases passed!\n",
         "hidden": false,
         "locked": false
        }
       ],
       "scored": true,
       "setup": "",
       "teardown": "",
       "type": "doctest"
      }
     ]
    }
   }
  }
 },
 "nbformat": 4,
 "nbformat_minor": 5
}
